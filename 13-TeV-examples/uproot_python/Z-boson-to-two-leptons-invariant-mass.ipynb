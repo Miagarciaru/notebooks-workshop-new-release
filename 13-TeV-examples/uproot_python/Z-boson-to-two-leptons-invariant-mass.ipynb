{
 "cells": [
  {
   "cell_type": "markdown",
   "id": "3db27841",
   "metadata": {},
   "source": [
    "<CENTER><img src=\"../images/ATLASOD.gif\" style=\"width:50%\"></CENTER>"
   ]
  },
  {
   "cell_type": "markdown",
   "id": "4d2383a3",
   "metadata": {},
   "source": [
    "# <CENTER><h1>Reconstruction of invariant mass of Z boson decaying into two leptons </h1></CENTER>\n",
    "\n",
    "## Simple pyROOT notebook example\n",
    "<p> In this notebook you can find an easy set of commands that show the basic computing techniques commonly used in high energy  physics (HEP) analysis. It also shows how to create a histogram, fills it, draws it and uses a fit function on it. Moreover it is an introduction to [ROOT](https://root.cern.ch/) too. At the end you get a plot with the invariant mass of the two leptons system, which represents the mass of Z boson.</p>\n",
    "\n",
    "<p> The Analysis is implemented by using some useful tools, such as pandas (to storage dataframes), numpy (the numerical library of python), uproot3 (to read root files), matplotlib (to plot our graphics) and scipy libary (which allows us to fit our histogram using a gaussian function)."
   ]
  },
  {
   "cell_type": "markdown",
   "id": "6f16fb8a",
   "metadata": {},
   "source": [
    "First at all, we should verify that we have installed all need tools to perform our analysis. If we haven't, we can run the next code line:"
   ]
  },
  {
   "cell_type": "code",
   "execution_count": 1,
   "id": "7ce218a5",
   "metadata": {},
   "outputs": [],
   "source": [
    "import sys\n",
    "#!{sys.executable} -m pip install --upgrade --user pip # update the pip package installer\n",
    "#!{sys.executable} -m pip install -U numpy pandas uproot3 matplotlib --user # install required packages"
   ]
  },
  {
   "cell_type": "markdown",
   "id": "7ce338b4",
   "metadata": {},
   "source": [
    "Now, we can import the tools that we are going to use (pandas, numpy, matplotlib, etc):"
   ]
  },
  {
   "cell_type": "code",
   "execution_count": 2,
   "id": "dce167fb",
   "metadata": {},
   "outputs": [],
   "source": [
    "import pandas as pd # to store data as dataframes\n",
    "import numpy as np # for numerical calculations such as histogramming\n",
    "import uproot # to read .root files as dataframes\n",
    "import matplotlib.pyplot as plt # for plotting\n",
    "import awkward as ak\n",
    "from scipy.optimize import curve_fit"
   ]
  },
  {
   "cell_type": "markdown",
   "id": "0353b7cc",
   "metadata": {},
   "source": [
    "The root file which contains the events information is storaged in [1largeRjet1lep folder](https://atlas-opendata.web.cern.ch/atlas-opendata/samples/2020/1largeRjet1lep/MC/). So we are going to define the \"path_file\" variable which contains the url and the name of the root file:"
   ]
  },
  {
   "cell_type": "code",
   "execution_count": 3,
   "id": "7996a11f",
   "metadata": {},
   "outputs": [],
   "source": [
    "#path_file = 'https://atlas-opendata.web.cern.ch/atlas-opendata/samples/2020/1largeRjet1lep/MC/mc_361106.Zee.1largeRjet1lep.root'\n",
    "#path_file = '/eos/user/g/garciarm/SWAN_projects/notebooks-workshop-new-release/notebooks-collection-opendata/13-TeV-examples/uproot_python/2lepfolder/Data'\n",
    "path_file = '../../notebooks-workshop-new-release/notebooks-collection-opendata/13-TeV-examples/uproot_python/2lepfolder/Data/data15_periodD.root'"
   ]
  },
  {
   "cell_type": "markdown",
   "id": "9a31342c",
   "metadata": {},
   "source": [
    "Using uproot3, we define our tree from the root file and we will print the number of total events by definying a new variable called numevents: "
   ]
  },
  {
   "cell_type": "code",
   "execution_count": 4,
   "id": "8c46fbc7",
   "metadata": {},
   "outputs": [
    {
     "name": "stdout",
     "output_type": "stream",
     "text": [
      "Number of events:  5482\n"
     ]
    }
   ],
   "source": [
    "tree = uproot.open(path_file)[\"analysis\"] # open the tree called analysis\n",
    "numevents = tree.num_entries # number of events\n",
    "#numevents = uproot.numentries(path_file, \"analysis\") # number of events\n",
    "print(\"Number of events: \", numevents)"
   ]
  },
  {
   "cell_type": "markdown",
   "id": "9d8bd85a",
   "metadata": {},
   "source": [
    "The fraction variable is defined if we don't want to run our analysis over the whole events in the root file, but if it is not the case, you can leave it as iqual to 1.0"
   ]
  },
  {
   "cell_type": "code",
   "execution_count": 5,
   "id": "fec9cee0",
   "metadata": {},
   "outputs": [],
   "source": [
    "fraction = 1.0"
   ]
  },
  {
   "cell_type": "markdown",
   "id": "14488141",
   "metadata": {},
   "source": [
    "Next, we define a function that computes the invariant mass of the two lepton system. This function requires the $pT$, $\\eta$, $\\phi$ and $E$ of each lepton to return the invariant mass."
   ]
  },
  {
   "cell_type": "code",
   "execution_count": 6,
   "id": "5d582b6d",
   "metadata": {},
   "outputs": [],
   "source": [
    "# Calculate invariant mass of the 4-lepton state\n",
    "# [:, i] selects the i-th lepton in each event\n",
    "def calc_mass(lep_pt, lep_eta, lep_phi, lep_e):\n",
    "    #p4 = vector.zip({\"pt\": lep_pt, \"eta\": lep_eta, \"phi\": lep_phi, \"E\": lep_e})\n",
    "    #invariant_mass = (p4[:, 0] + p4[:, 1] + p4[:, 2] + p4[:, 3]).M # .M calculates the invariant mass\n",
    "    \n",
    "    \n",
    "    # sumE = sum of energy\n",
    "    sumE = lep_e[:, 0]+lep_e[:, 1]\n",
    "    \n",
    "    px_0 = lep_pt[:, 0]*np.cos(lep_phi[:, 0]) # x-momentum of 0th lepton\n",
    "    px_1 = lep_pt[:, 1]*np.cos(lep_phi[:, 1]) # x-momentum of 1st lepton\n",
    "    py_0 = lep_pt[:, 0]*np.sin(lep_phi[:, 0]) # y-momentum of 0th lepton\n",
    "    py_1 = lep_pt[:, 1]*np.sin(lep_phi[:, 1]) # y-momentum of 1st lepton\n",
    "    pz_0 = lep_pt[:, 0]*np.sinh(lep_eta[:, 0]) # z-momentum of 0th lepton\n",
    "    pz_1 = lep_pt[:, 1]*np.sinh(lep_eta[:, 1]) # z-momentum of 1st lepton\n",
    "    \n",
    "    # sumpx = sum of x-momenta\n",
    "    sumpx = px_0 + px_1\n",
    "    \n",
    "    # sumpy = sum of y-momenta\n",
    "    sumpy = py_0 + py_1\n",
    "    \n",
    "    # sumpz = sum of z-momenta\n",
    "    sumpz = pz_0 + pz_1\n",
    "    \n",
    "    # sump = magnitude of total momentum vector. Remember it's a vector!\n",
    "    sump = ((sumpx)**2 + (sumpy)**2 + (sumpz)**2)**(1/2)\n",
    "    \n",
    "    # Mll = invariant mass from M^2 = E^2 - p^2\n",
    "    Mll = ((sumE)**2 - (sump)**2)**(1/2)\n",
    "    \n",
    "    return Mll # divide by 1000 to go from MeV to GeV"
   ]
  },
  {
   "cell_type": "markdown",
   "id": "2de4e496",
   "metadata": {},
   "source": [
    "When we want to fit some data to a determined function, we can previously define it and then use it at the end of the analysis. For this reason, we define the gaussian function with the parameters that we are going to fit (amplitude, mu and the standard deviation):  "
   ]
  },
  {
   "cell_type": "code",
   "execution_count": 7,
   "id": "e0d9880a",
   "metadata": {},
   "outputs": [],
   "source": [
    "def gauss(x, amp, mu, sigma):\n",
    "    return amp*np.exp(-((x-mu)**2)/(2*sigma**2))"
   ]
  },
  {
   "cell_type": "markdown",
   "id": "6dd18c77",
   "metadata": {},
   "source": [
    "Now, we are ready to implement some basic cuts in our data. Here, we can find three main cuts, which are:\n",
    "<p> 1. At_least_two_leptons: Remove all events in which the lepton number is less than 2.\n",
    "<p> 2. Opposite_charge_cut: Remove all events in which the two leptons have opposite charge\n",
    "<p> 3. lep_type_cut: Remove all events in which the two leptons don't belong to the same family."
   ]
  },
  {
   "cell_type": "code",
   "execution_count": 8,
   "id": "7649f68d",
   "metadata": {},
   "outputs": [],
   "source": [
    "def at_least_two_leptons_cut(lep_n):\n",
    "    return lep_n < 2\n",
    "\n",
    "# Cut lepton type (electron type is 11,  muon type is 13)\n",
    "def cut_lep_type(lep_type):\n",
    "    sum_lep_type = lep_type[:, 0] + lep_type[:, 1]\n",
    "    lep_type_cut_bool = (sum_lep_type != 22) & (sum_lep_type != 26)\n",
    "    return lep_type_cut_bool # True means we should remove this entry (lepton type does not match)\n",
    "\n",
    "# Cut lepton charge\n",
    "def cut_lep_charge(lep_charge):\n",
    "    # first lepton in each event is [:, 0], 2nd lepton is [:, 1] etc\n",
    "    sum_lep_charge = lep_charge[:, 0] + lep_charge[:, 1] != 0\n",
    "    return sum_lep_charge # True means we should remove this entry (sum of lepton charges is not equal to 0)"
   ]
  },
  {
   "cell_type": "markdown",
   "id": "8ab944f2",
   "metadata": {},
   "source": [
    "The next code line is going to implement the cuts over the data and save the selected events in a dataframe using pandas. "
   ]
  },
  {
   "cell_type": "code",
   "execution_count": 9,
   "id": "c05f82ca",
   "metadata": {},
   "outputs": [
    {
     "name": "stderr",
     "output_type": "stream",
     "text": [
      "/cvmfs/sft.cern.ch/lcg/views/LCG_105a_swan/x86_64-el9-gcc13-opt/lib/python3.9/site-packages/awkward/_connect/_numpy.py:195: RuntimeWarning: invalid value encountered in power\n",
      "  result = getattr(ufunc, method)(\n"
     ]
    },
    {
     "name": "stdout",
     "output_type": "stream",
     "text": [
      "[{'lep_n': 2, 'lep_charge': [1, -1], 'lep_type': [13, 13], 'lep_pt': [39.500762939453125, 28.03181266784668], 'lep_eta': [0.07896601408720016, -2.263336181640625], 'lep_phi': [-0.24319986999034882, 1.835705280303955], 'lep_e': [39.624122619628906, 136.22225952148438], 'mass': 112.71790313720703}, {'lep_n': 2, 'lep_charge': [-1, 1], 'lep_type': [13, 13], 'lep_pt': [40.010536193847656, 53.01445770263672], 'lep_eta': [-0.2747797966003418, -0.5154194831848145], 'lep_phi': [1.7070978879928589, -1.451306939125061], 'lep_e': [41.53067398071289, 60.21366882324219], 'mass': 92.77616119384766}, {'lep_n': 2, 'lep_charge': [-1, 1], 'lep_type': [13, 13], 'lep_pt': [54.01054763793945, 25.271930694580078], 'lep_eta': [1.672802448272705, 1.9823359251022339], 'lep_phi': [-2.374850273132324, -2.1807608604431152], 'lep_e': [148.92860412597656, 93.47370910644531], 'mass': 13.532079696655273}, {'lep_n': 2, 'lep_charge': [1, -1], 'lep_type': [13, 13], 'lep_pt': [24.499900817871094, 96.541748046875], 'lep_eta': [-1.4762156009674072, -1.0912128686904907], 'lep_phi': [1.2726831436157227, -0.9046333432197571], 'lep_e': [56.40932083129883, 159.9548797607422], 'mass': 88.2155990600586}, {'lep_n': 2, 'lep_charge': [1, -1], 'lep_type': [13, 13], 'lep_pt': [33.137447357177734, 81.0391845703125], 'lep_eta': [1.1182574033737183, 0.05941660702228546], 'lep_phi': [2.2227063179016113, 0.7270259857177734], 'lep_e': [56.107879638671875, 81.18234252929688], 'mass': 90.94296264648438}]\n"
     ]
    }
   ],
   "source": [
    "variables = ['lep_n','lep_charge', 'lep_type', 'lep_pt','lep_eta','lep_phi','lep_e']\n",
    "#data_pd = pd.DataFrame()\n",
    "\n",
    "# Define empty list to hold all data for this sample\n",
    "#sample_data = []\n",
    "data = []\n",
    "# Perform the cuts for each data entry in the tree\n",
    "for data in tree.iterate(variables, library=\"ak\"): # the data will be in the form of an awkward array\n",
    "    #nIn = len(data.index) # number of events in this batch\n",
    "    \n",
    "    # Cut applied in the number of leptons\n",
    "    lep_n = data['lep_n']\n",
    "    data = data[~at_least_two_leptons_cut(lep_n)]\n",
    "    \n",
    "    # Cut applied in the lepton's charge\n",
    "    lep_charge = data['lep_charge']\n",
    "    data = data[~cut_lep_charge(lep_charge)]\n",
    "    \n",
    "    # Cut applied in the lepton's type\n",
    "    lep_type = data['lep_type']\n",
    "    data = data[~cut_lep_type(lep_type)]\n",
    "    \n",
    "    # Calculate reconstructed dilepton invariant mass using the function calc_mll defined above\n",
    "    data['mass'] = calc_mass(data['lep_pt'], data['lep_eta'], data['lep_phi'], data['lep_e'])\n",
    "    \n",
    "    #nOut = len(data.index) # number of events passing cuts in this batch\n",
    "    #print(\"\\t nIn: \"+str(nIn)+\",\\t nOut: \\t\"+str(nOut)) # events before and after\n",
    "    \n",
    "    # Append data to the whole sample data list\n",
    "    #sample_data.append(data)\n",
    "    \n",
    "print(ak.to_list(data)[:5])\n",
    "#data_pd = ak.to_pandas(data)\n",
    "# Reset MultiIndex to remove 'subentry'\n",
    "#data_pd = data_pd.reset_index(level='subentry', drop=True)\n",
    "#data_pd.head(10)"
   ]
  },
  {
   "cell_type": "markdown",
   "id": "29baf8b9",
   "metadata": {},
   "source": [
    "Once we have performed our analysis, we can visualize our selected events and their information ($pT$, $\\phi$, $\\eta$, $E$ and the invariant mass of the event) as follow:"
   ]
  },
  {
   "cell_type": "code",
   "execution_count": 10,
   "id": "d29454b7",
   "metadata": {},
   "outputs": [
    {
     "data": {
      "text/plain": [
       "\"\\ndata_all.reset_index(inplace=True) ##Used to define a new index enumerated until nout(events passing the selection)\\n#data_all.reset_index(drop=True, inplace=True) ##Add drop option to eliminate previous index (entry column by default)\\ndata_all ## Use it if you want to see all information about the events\\n#data_all['lep_pt'] ## Use it if you only want to visualize the pT of the two leptons\\n\""
      ]
     },
     "execution_count": 10,
     "metadata": {},
     "output_type": "execute_result"
    }
   ],
   "source": [
    "\"\"\"\n",
    "data_all.reset_index(inplace=True) ##Used to define a new index enumerated until nout(events passing the selection)\n",
    "#data_all.reset_index(drop=True, inplace=True) ##Add drop option to eliminate previous index (entry column by default)\n",
    "data_all ## Use it if you want to see all information about the events\n",
    "#data_all['lep_pt'] ## Use it if you only want to visualize the pT of the two leptons\n",
    "\"\"\""
   ]
  },
  {
   "cell_type": "markdown",
   "id": "4acc1640",
   "metadata": {},
   "source": [
    "Now, we only need to plot our final graphs. For this reason, we create two functions which plots our data using points and the other one using histograms. In these plots we can see our fit using a gaussian function we previously defined."
   ]
  },
  {
   "cell_type": "markdown",
   "id": "b7b15abc",
   "metadata": {},
   "source": [
    "Run the next two code lines if you want to see the plot with points:"
   ]
  },
  {
   "cell_type": "code",
   "execution_count": 11,
   "id": "36f5df76",
   "metadata": {},
   "outputs": [],
   "source": [
    "def plot_data():   \n",
    "\n",
    "    xmin = 40 # GeV\n",
    "    xmax = 140 # GeV\n",
    "    step_size = 2 # GeV\n",
    "    \n",
    "    bin_edges = np.arange(start=xmin, # The interval includes this value\n",
    "                     stop=xmax+step_size, # The interval doesn't include this value\n",
    "                     step=step_size ) # Spacing between values\n",
    "    bin_centres = np.arange(start=xmin+step_size/2, # The interval includes this value\n",
    "                            stop=xmax+step_size/2, # The interval doesn't include this value\n",
    "                            step=step_size ) # Spacing between values\n",
    "\n",
    "    data_x,_ = np.histogram(data['mass'], \n",
    "                            bins=bin_edges ) # histogram the data   \n",
    "         \n",
    "    data_x_errors = np.sqrt( data_x ) # statistical error on the data\n",
    "\n",
    "    # Main plot \n",
    "    # *************\n",
    "    plt.axes([0.1,0.3,0.85,0.65]) # left, bottom, width, height \n",
    "    main_axes = plt.gca() # get current axes\n",
    "    \n",
    "    # plot the data points\n",
    "    main_axes.errorbar(x=bin_centres, y=data_x, yerr=data_x_errors, \n",
    "                      fmt='ko', # 'k' means black and 'o' means circles\n",
    "                      label='Data' ) \n",
    "\n",
    "    # set the x-limit of the main axes\n",
    "    main_axes.set_xlim( left=xmin, right=xmax ) \n",
    "    \n",
    "    # set the y-axis limit for the main axes\n",
    "    main_axes.set_ylim( bottom=0, top=np.amax(data_x)*1.1 ) \n",
    "    \n",
    "    # avoid displaying y=0 on the main axes\n",
    "    main_axes.yaxis.get_major_ticks()[0].set_visible(False) \n",
    "\n",
    "    \n",
    "    # data fit\n",
    "    \n",
    "    popt,pcov = curve_fit(gauss, bin_centres, data_x, p0=(10000, 90, 5))\n",
    "    \n",
    "    y = gauss(bin_centres, popt[0], popt[1], popt[2])\n",
    "    \n",
    "    plt.plot(bin_centres, y, color='r', linestyle='dashed', label='Gaussian Fit Function')\n",
    "    \n",
    "    mu = np.format_float_positional(popt[1], unique=False, precision=2)\n",
    "    sigma = np.format_float_positional(popt[2], unique=False, precision=2)\n",
    "\n",
    "    # Add text 'Invariant mass of Z boson given by the gaussian fit function'\n",
    "    plt.text(0.6, # x\n",
    "             0.56, # y\n",
    "             'Mass of Z boson given by', # text\n",
    "             transform=main_axes.transAxes, # coordinate system used is that of main_axes\n",
    "             style='italic',\n",
    "             fontsize=10 ) \n",
    "    \n",
    "    plt.text(0.6, # x\n",
    "             0.5, # y\n",
    "             'the gaussian fit function', # text\n",
    "             transform=main_axes.transAxes, # coordinate system used is that of main_axes\n",
    "             style='italic',\n",
    "             fontsize=10 ) \n",
    "    \n",
    "    plt.text(0.6, # x\n",
    "             0.44, # y\n",
    "             r'$m_{Z} = $ '+mu + '$\\pm$' + sigma, # text\n",
    "             transform=main_axes.transAxes ) # coordinate system used is that of main_axes    \n",
    "    \n",
    "    # Add text 'ATLAS Open Data' on plot\n",
    "    plt.text(0.1, # x\n",
    "             0.92, # y\n",
    "             'ATLAS Open Data', # text\n",
    "             transform=main_axes.transAxes, # coordinate system used is that of main_axes\n",
    "             fontsize=13 ) \n",
    "    \n",
    "    # Add text 'for education' on plot\n",
    "    plt.text(0.1, # x\n",
    "             0.86, # y\n",
    "             'for education', # text\n",
    "             transform=main_axes.transAxes, # coordinate system used is that of main_axes\n",
    "             style='italic',\n",
    "             fontsize=8 ) \n",
    "    \n",
    "    # Add energy and luminosity\n",
    "    #lumi_used = str(lumi*fraction) # luminosity to write on the plot\n",
    "    plt.text(0.1, # x\n",
    "             0.8, # y\n",
    "             r'$\\sqrt{s}=13 TeV$', # text\n",
    "             transform=main_axes.transAxes ) # coordinate system used is that of main_axes \n",
    "    \n",
    "    # Add a label for the analysis carried out\n",
    "    plt.text(0.1, # x\n",
    "             0.74, # y\n",
    "             r'$Z \\rightarrow l^{+}l^{-}$', # text \n",
    "             transform=main_axes.transAxes ) # coordinate system used is that of main_axes\n",
    "\n",
    "    # draw the legend\n",
    "    # 'upper left', 'upper right', 'lower left', 'lower right'\n",
    "    main_axes.legend(frameon=False, # no box around the legend\n",
    "                     loc='upper right' ) # legend location \n",
    "    \n",
    "    # x-axis label\n",
    "    plt.xlabel(r'di-lepton invariant mass $\\mathrm{m_{ll}}$ [GeV]')\n",
    "    \n",
    "    # y-axis label\n",
    "    plt.ylabel('Events')\n",
    "\n",
    "    plt.xticks(np.arange(xmin, xmax, step=10))\n",
    "    \n",
    "    plt.yticks(np.arange(0, 1000, step=100))\n",
    "    \n",
    "    plt.title('Mass of the Z boson')\n",
    "    plt.savefig('plots/Zmass_pandas_p.pdf')\n",
    "    return"
   ]
  },
  {
   "cell_type": "code",
   "execution_count": 12,
   "id": "5c2bf6a1",
   "metadata": {},
   "outputs": [
    {
     "data": {
      "image/png": "[encoded data removed]",
      "text/plain": [
       "<Figure size 432x288 with 1 Axes>"
      ]
     },
     "metadata": {
      "needs_background": "light"
     },
     "output_type": "display_data"
    }
   ],
   "source": [
    "plot_data()"
   ]
  },
  {
   "cell_type": "markdown",
   "id": "3c41cdf3",
   "metadata": {},
   "source": [
    "Run the next two code lines if you want to see the plot as histograms:"
   ]
  },
  {
   "cell_type": "code",
   "execution_count": 13,
   "id": "c3c9fbd2",
   "metadata": {},
   "outputs": [],
   "source": [
    "def plot_data_2(data):\n",
    "    \n",
    "    xmin = 40 # GeV\n",
    "    xmax = 140 # GeV\n",
    "    step_size = 2 # GeV\n",
    "\n",
    "    bin_edges = np.arange(start=xmin, # The interval includes this value\n",
    "                     stop=xmax+step_size, # The interval doesn't include this value\n",
    "                     step=step_size ) # Spacing between values\n",
    "    bin_centres = np.arange(start=xmin+step_size/2, # The interval includes this value\n",
    "                            stop=xmax+step_size/2, # The interval doesn't include this value\n",
    "                            step=step_size ) # Spacing between values\n",
    "\n",
    "    main_axes = plt.gca() # get current axes\n",
    "    \n",
    "    # plot data histogram\n",
    "    data_hist = main_axes.hist(data['mass'], bins=bin_edges, color='#0011ff', label='Data') #color='#40ff00, label='data'\n",
    "    \n",
    "    # set the x-limit of the main axes\n",
    "    main_axes.set_xlim( left=xmin, right=xmax ) \n",
    "    \n",
    "    # set the axis tick parameters for the main axes\n",
    "    main_axes.tick_params(which='both', # ticks on both x and y axes\n",
    "                          direction='in', # Put ticks inside and outside the axes\n",
    "                          top=False, # draw ticks on the top axis\n",
    "                          right=False ) # draw ticks on right axis\n",
    "    \n",
    "    # x-axis label\n",
    "    main_axes.set_xlabel(r'2-lepton invariant mass $\\mathrm{m_{ll}}$ [GeV]',\n",
    "                        fontsize=13, x=1, horizontalalignment='right' )\n",
    "    \n",
    "    # write y-axis label for main axes\n",
    "    main_axes.set_ylabel('Events / '+str(step_size)+' GeV',\n",
    "                         y=1, horizontalalignment='right')\n",
    "    \n",
    "    plt.xticks(np.arange(xmin, xmax, step=10))\n",
    "    \n",
    "    plt.yticks(np.arange(0, 10000, step=1000))\n",
    "    \n",
    "    plt.title('Mass of the Z boson')\n",
    "    \n",
    "    # data fit\n",
    "    \n",
    "    data_x,_ = np.histogram(data['mass'], bins=bin_edges ) # histogram the data   \n",
    "        \n",
    "    popt,pcov = curve_fit(gauss, bin_centres, data_x, p0=(10000, 90, 5))\n",
    "    \n",
    "    y = gauss(bin_centres, popt[0], popt[1], popt[2])\n",
    "    \n",
    "    plt.plot(bin_centres, y, color='r', linestyle='dashed', label='Gaussian Fit Function')\n",
    "    \n",
    "    mu = np.format_float_positional(popt[1], unique=False, precision=2)\n",
    "    sigma = np.format_float_positional(popt[2], unique=False, precision=2)\n",
    "\n",
    "    # Add text 'Invariant mass of Z boson given by the gaussian fit function'\n",
    "    plt.text(0.6, # x\n",
    "             0.56, # y\n",
    "             'Mass of Z boson given by', # text\n",
    "             transform=main_axes.transAxes, # coordinate system used is that of main_axes\n",
    "             style='italic',\n",
    "             fontsize=10 ) \n",
    "    \n",
    "    plt.text(0.6, # x\n",
    "             0.5, # y\n",
    "             'the gaussian fit function', # text\n",
    "             transform=main_axes.transAxes, # coordinate system used is that of main_axes\n",
    "             style='italic',\n",
    "             fontsize=10 ) \n",
    "    \n",
    "    plt.text(0.6, # x\n",
    "             0.44, # y\n",
    "             r'$m_{Z} = $ '+mu + '$\\pm$' + sigma, # text\n",
    "             transform=main_axes.transAxes ) # coordinate system used is that of main_axes   \n",
    "    \n",
    "    # draw the legend\n",
    "    main_axes.legend( frameon=False,\n",
    "                    loc='upper right' ) # no box around the legend \n",
    "    \n",
    "    # Add text 'ATLAS Open Data' on plot\n",
    "    main_axes.text(0.05, # x\n",
    "             0.93, # y\n",
    "             'ATLAS Open Data', # text\n",
    "             transform=main_axes.transAxes, # coordinate system used is that of main_axes\n",
    "             fontsize=13 ) \n",
    "    \n",
    "    # Add text 'for education' on plot\n",
    "    main_axes.text(0.05, # x\n",
    "             0.88, # y\n",
    "             'for education', # text\n",
    "             transform=main_axes.transAxes, # coordinate system used is that of main_axes\n",
    "             style='italic',\n",
    "             fontsize=8 )\n",
    "    \n",
    "    main_axes.text(0.05, # x\n",
    "             0.8, # y\n",
    "             r'$\\sqrt{s}=13 TeV$', # text\n",
    "             transform=main_axes.transAxes ) # coordinate system used is that of main_axes \n",
    "    \n",
    "    # Add a label for the analysis carried out\n",
    "    main_axes.text(0.05, # x\n",
    "             0.74, # y\n",
    "             r'$Z \\rightarrow l^{+}l^{-}$', # text \n",
    "             transform=main_axes.transAxes ) # coordinate system used is that of main_axes\n",
    "    plt.savefig('plots/Zmass_pandas_h.pdf')\n",
    "    return"
   ]
  },
  {
   "cell_type": "code",
   "execution_count": 14,
   "id": "0c9329c6",
   "metadata": {},
   "outputs": [
    {
     "data": {
      "image/png": "[encoded data removed]",
      "text/plain": [
       "<Figure size 432x288 with 1 Axes>"
      ]
     },
     "metadata": {
      "needs_background": "light"
     },
     "output_type": "display_data"
    }
   ],
   "source": [
    "plot_data_2(data)"
   ]
  }
 ],
 "metadata": {
  "@webio": {
   "lastCommId": null,
   "lastKernelId": null
  },
  "kernelspec": {
   "display_name": "Python 3",
   "language": "python",
   "name": "python3"
  },
  "language_info": {
   "codemirror_mode": {
    "name": "ipython",
    "version": 3
   },
   "file_extension": ".py",
   "mimetype": "text/x-python",
   "name": "python",
   "nbconvert_exporter": "python",
   "pygments_lexer": "ipython3",
   "version": "3.9.12"
  }
 },
 "nbformat": 4,
 "nbformat_minor": 5
}
