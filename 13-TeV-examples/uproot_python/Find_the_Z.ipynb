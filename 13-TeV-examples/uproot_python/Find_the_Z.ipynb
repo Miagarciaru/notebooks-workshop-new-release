{
 "cells": [
  {
   "cell_type": "markdown",
   "metadata": {},
   "source": [
    "<CENTER><img src=\"../../images/ATLASOD.gif\" style=\"width:50%\"></CENTER>"
   ]
  },
  {
   "cell_type": "markdown",
   "metadata": {},
   "source": [
    "# Find the Z boson yourself!\n",
    "This notebook uses ATLAS Open Data http://opendata.atlas.cern to show you the steps to find the Z boson.\n",
    "\n",
    "The whole notebook takes less than an hour to follow through.\n",
    "\n",
    "Notebooks are web applications that allow you to create and share documents that can contain:\n",
    "1. live code\n",
    "2. visualisations\n",
    "3. narrative text\n",
    "\n",
    "Notebooks are a perfect platform to develop in Python, since you'll need exactly those 3 things: code, visualisations and narrative text!\n",
    "\n",
    "By the end of this notebook you will be able to:\n",
    "1. find the Z boson yourself\n",
    "2. know some things you can change to improve your measurement"
   ]
  },
  {
   "cell_type": "markdown",
   "metadata": {},
   "source": [
    "<CENTER><img src=\"images/feynman_diagrams/Zee_feynman.png\" style=\"width:40%\"></CENTER>"
   ]
  },
  {
   "cell_type": "markdown",
   "metadata": {},
   "source": [
    "<a id='contents'></a>"
   ]
  },
  {
   "cell_type": "markdown",
   "metadata": {},
   "source": [
    "Contents: \n",
    "\n",
    "[Running a Jupyter notebook](#running) <br />\n",
    "[To setup everytime](#setupeverytime) <br />\n",
    "[Where's my data](#fraction) <br />\n",
    "[Calculate that invariant mass!](#good_leptons) <br />\n",
    "[Can we process the data yet?!](#load_data) <br />\n",
    "[Plot Data](#plot_data) <br />\n",
    "[Your tasks](#tasks) <br />\n",
    "[Going further](#going_further) <br />"
   ]
  },
  {
   "cell_type": "markdown",
   "metadata": {},
   "source": [
    "<a id='running'></a>"
   ]
  },
  {
   "cell_type": "markdown",
   "metadata": {},
   "source": [
    "## Running a Jupyter notebook\n",
    "\n",
    "To run the whole Jupyter notebook, in the top menu click Cell -> Run All.\n",
    "\n",
    "To propagate a change you've made to a piece of code, click Cell -> Run All Below.\n",
    "\n",
    "You can also run a single code cell, by using the keyboard shortcut Shift+Enter."
   ]
  },
  {
   "cell_type": "markdown",
   "metadata": {},
   "source": [
    "[Back to contents](#contents)"
   ]
  },
  {
   "cell_type": "markdown",
   "metadata": {},
   "source": [
    "<a id='setupeverytime'></a>"
   ]
  },
  {
   "cell_type": "markdown",
   "metadata": {},
   "source": [
    "## To setup everytime\n",
    "We're going to be using a number of tools to help us:\n",
    "* urllib: let us download files\n",
    "* uproot: lets us read .root files typically used in particle physics into data formats used in Python\n",
    "* pandas: lets us store data as dataframes, a format widely used in Python\n",
    "* numpy: provides numerical calculations such as histogramming\n",
    "* matplotlib: common tool for making plots, figures, images, visualisations"
   ]
  },
  {
   "cell_type": "code",
   "execution_count": 1,
   "metadata": {},
   "outputs": [],
   "source": [
    "import sys\n",
    "#import os.path\n",
    "# update the pip package installer\n",
    "#!{sys.executable} -m pip install --upgrade --user pip\n",
    "# install required packages\n",
    "#!{sys.executable} -m pip install --upgrade --user uproot4 awkward vector numpy matplotlib"
   ]
  },
  {
   "cell_type": "code",
   "execution_count": 2,
   "metadata": {
    "scrolled": true
   },
   "outputs": [],
   "source": [
    "#import urllib.request # for downloading files\n",
    "import pandas as pd # to store data as dataframes\n",
    "import numpy as np # for numerical calculations such as histogramming\n",
    "import uproot # to read .root files as dataframes\n",
    "import matplotlib.pyplot as plt # for plotting\n",
    "import awkward as ak # to represent nested data in columnar format"
   ]
  },
  {
   "cell_type": "markdown",
   "metadata": {},
   "source": [
    "<a id='fraction'></a>"
   ]
  },
  {
   "cell_type": "markdown",
   "metadata": {},
   "source": [
    "## Where's my data?"
   ]
  },
  {
   "cell_type": "code",
   "execution_count": 3,
   "metadata": {},
   "outputs": [],
   "source": [
    "url = 'https://atlas-opendata.web.cern.ch/13TeV/2J2LMET30/Data/data16_periodL.root'"
   ]
  },
  {
   "cell_type": "markdown",
   "metadata": {},
   "source": [
    "[Back to contents](#contents)"
   ]
  },
  {
   "cell_type": "markdown",
   "metadata": {},
   "source": [
    "<a id='good_leptons'></a>"
   ]
  },
  {
   "cell_type": "markdown",
   "metadata": {},
   "source": [
    "## Calculate that invariant mass!"
   ]
  },
  {
   "cell_type": "markdown",
   "metadata": {},
   "source": [
    "Fill in the missing lines to calculate invariant mass.\n",
    "\n",
    "1. If the energy of the 2 leptons are *lep_E[0]* and *lep_E[1]*, write the sum of energy, *sumE*\n",
    "2. Write the sum of x-momentum, *sumpx*\n",
    "3. Do the same for y and z momenta (*sumpy* and *sumpz*)\n",
    "4. Now you have the x,y,z components sumpx,sumpy,sumpz. The vector **sump** = (sumpx,sumpy,sumpz). Write the magnitude of total momentum, *sump*.\n",
    "\n",
    "The invariant mass, *M*, of a parent particle decaying to two daughter particles is related to properties of the daughter particles by the formula:\n",
    "\n",
    "$$M^2=E^2-p^2,$$\n",
    "\n",
    "where *E* is the total energy of the daughter particles, and *p* is the magnitude of the vector sum of the momenta of the daughter particles. This is written in natural units with *c*=1.\n",
    "\n",
    "5. Write *Mll* using this formula for invariant mass"
   ]
  },
  {
   "cell_type": "code",
   "execution_count": 4,
   "metadata": {},
   "outputs": [],
   "source": [
    "# Calculate invariant mass of the 4-lepton state\n",
    "# [:, i] selects the i-th lepton in each event\n",
    "def calc_mass(lep_pt, lep_eta, lep_phi, lep_e):\n",
    "    #p4 = vector.zip({\"pt\": lep_pt, \"eta\": lep_eta, \"phi\": lep_phi, \"E\": lep_e})\n",
    "    #invariant_mass = (p4[:, 0] + p4[:, 1] + p4[:, 2] + p4[:, 3]).M # .M calculates the invariant mass\n",
    "    \n",
    "    \n",
    "    # sumE = sum of energy\n",
    "    sumE = lep_e[:, 0]+lep_e[:, 1]\n",
    "    \n",
    "    px_0 = lep_pt[:, 0]*np.cos(lep_phi[:, 0]) # x-momentum of 0th lepton\n",
    "    px_1 = lep_pt[:, 1]*np.cos(lep_phi[:, 1]) # x-momentum of 1st lepton\n",
    "    py_0 = lep_pt[:, 0]*np.sin(lep_phi[:, 0]) # y-momentum of 0th lepton\n",
    "    py_1 = lep_pt[:, 1]*np.sin(lep_phi[:, 1]) # y-momentum of 1st lepton\n",
    "    pz_0 = lep_pt[:, 0]*np.sinh(lep_eta[:, 0]) # z-momentum of 0th lepton\n",
    "    pz_1 = lep_pt[:, 1]*np.sinh(lep_eta[:, 1]) # z-momentum of 1st lepton\n",
    "    \n",
    "    # sumpx = sum of x-momenta\n",
    "    sumpx = px_0 + px_1\n",
    "    \n",
    "    # sumpy = sum of y-momenta\n",
    "    sumpy = py_0 + py_1\n",
    "    \n",
    "    # sumpz = sum of z-momenta\n",
    "    sumpz = pz_0 + pz_1\n",
    "    \n",
    "    # sump = magnitude of total momentum vector. Remember it's a vector!\n",
    "    sump = ((sumpx)**2 + (sumpy)**2 + (sumpz)**2)**(1/2)\n",
    "    \n",
    "    # Mll = invariant mass from M^2 = E^2 - p^2\n",
    "    Mll = ((sumE)**2 - (sump)**2)**(1/2)\n",
    "    \n",
    "    return Mll # divide by 1000 to go from MeV to GeV"
   ]
  },
  {
   "cell_type": "markdown",
   "metadata": {},
   "source": [
    "<a id='load_data'></a>"
   ]
  },
  {
   "cell_type": "markdown",
   "metadata": {},
   "source": [
    "## Can we process the data yet?!"
   ]
  },
  {
   "cell_type": "code",
   "execution_count": 5,
   "metadata": {},
   "outputs": [
    {
     "name": "stdout",
     "output_type": "stream",
     "text": [
      "Number of events:  656868\n"
     ]
    }
   ],
   "source": [
    "tree = uproot.open(url)[\"analysis\"]\n",
    "fraction = 1.0\n",
    "numevents = tree.num_entries # number of events\n",
    "print(\"Number of events: \", numevents)"
   ]
  },
  {
   "cell_type": "code",
   "execution_count": 6,
   "metadata": {},
   "outputs": [
    {
     "name": "stderr",
     "output_type": "stream",
     "text": [
      "/cvmfs/sft.cern.ch/lcg/views/LCG_105a_swan/x86_64-el9-gcc13-opt/lib/python3.9/site-packages/awkward/_connect/_numpy.py:195: RuntimeWarning: invalid value encountered in power\n",
      "  result = getattr(ufunc, method)(\n"
     ]
    },
    {
     "name": "stdout",
     "output_type": "stream",
     "text": [
      "\t nIn: 656868,\t nOut: \t656868\n",
      "656868\n",
      "[{'lep_pt': [53.508453369140625, 40.70960235595703], 'lep_eta': [-0.8447815775871277, -0.327175110578537], 'lep_phi': [0.7009308934211731, -3.1410913467407227], 'lep_e': [73.76470184326172, 42.90808868408203], 'mass': 91.01830291748047}, {'lep_pt': [96.64022827148438, 9.672136306762695], 'lep_eta': [-0.17536036670207977, -2.2494611740112305], 'lep_phi': [3.140826463699341, -1.2681776285171509], 'lep_e': [98.12999725341797, 46.368736267089844], 'mass': 90.07732391357422}, {'lep_pt': [139.95579528808594, 97.9210205078125], 'lep_eta': [0.694376528263092, 0.5807015299797058], 'lep_phi': [-0.9173291921615601, -1.6807739734649658], 'lep_e': [175.07394409179688, 114.90045928955078], 'mass': 88.22994995117188}, {'lep_pt': [36.04149627685547, 16.130859375], 'lep_eta': [0.31439512968063354, 1.1711399555206299], 'lep_phi': [-1.4523895978927612, 3.017874240875244], 'lep_e': [37.83746337890625, 28.516983032226562], 'mass': 43.53236770629883}, {'lep_pt': [59.08981704711914, 25.823993682861328], 'lep_eta': [0.6834590435028076, -0.45128002762794495], 'lep_phi': [-2.936984062194824, 0.8373687267303467], 'lep_e': [73.43645477294922, 28.49869728088379], 'mass': 87.73759460449219}]\n"
     ]
    },
    {
     "data": {
      "text/html": [
       "<div>\n",
       "<style scoped>\n",
       "    .dataframe tbody tr th:only-of-type {\n",
       "        vertical-align: middle;\n",
       "    }\n",
       "\n",
       "    .dataframe tbody tr th {\n",
       "        vertical-align: top;\n",
       "    }\n",
       "\n",
       "    .dataframe thead th {\n",
       "        text-align: right;\n",
       "    }\n",
       "</style>\n",
       "<table border=\"1\" class=\"dataframe\">\n",
       "  <thead>\n",
       "    <tr style=\"text-align: right;\">\n",
       "      <th></th>\n",
       "      <th></th>\n",
       "      <th>lep_pt</th>\n",
       "      <th>lep_eta</th>\n",
       "      <th>lep_phi</th>\n",
       "      <th>lep_e</th>\n",
       "      <th>mass</th>\n",
       "    </tr>\n",
       "    <tr>\n",
       "      <th>entry</th>\n",
       "      <th>subentry</th>\n",
       "      <th></th>\n",
       "      <th></th>\n",
       "      <th></th>\n",
       "      <th></th>\n",
       "      <th></th>\n",
       "    </tr>\n",
       "  </thead>\n",
       "  <tbody>\n",
       "    <tr>\n",
       "      <th rowspan=\"2\" valign=\"top\">0</th>\n",
       "      <th>0</th>\n",
       "      <td>53.508453</td>\n",
       "      <td>-0.844782</td>\n",
       "      <td>0.700931</td>\n",
       "      <td>73.764702</td>\n",
       "      <td>91.018303</td>\n",
       "    </tr>\n",
       "    <tr>\n",
       "      <th>1</th>\n",
       "      <td>40.709602</td>\n",
       "      <td>-0.327175</td>\n",
       "      <td>-3.141091</td>\n",
       "      <td>42.908089</td>\n",
       "      <td>91.018303</td>\n",
       "    </tr>\n",
       "    <tr>\n",
       "      <th rowspan=\"2\" valign=\"top\">1</th>\n",
       "      <th>0</th>\n",
       "      <td>96.640228</td>\n",
       "      <td>-0.175360</td>\n",
       "      <td>3.140826</td>\n",
       "      <td>98.129997</td>\n",
       "      <td>90.077324</td>\n",
       "    </tr>\n",
       "    <tr>\n",
       "      <th>1</th>\n",
       "      <td>9.672136</td>\n",
       "      <td>-2.249461</td>\n",
       "      <td>-1.268178</td>\n",
       "      <td>46.368736</td>\n",
       "      <td>90.077324</td>\n",
       "    </tr>\n",
       "    <tr>\n",
       "      <th rowspan=\"2\" valign=\"top\">2</th>\n",
       "      <th>0</th>\n",
       "      <td>139.955795</td>\n",
       "      <td>0.694377</td>\n",
       "      <td>-0.917329</td>\n",
       "      <td>175.073944</td>\n",
       "      <td>88.229950</td>\n",
       "    </tr>\n",
       "    <tr>\n",
       "      <th>1</th>\n",
       "      <td>97.921021</td>\n",
       "      <td>0.580702</td>\n",
       "      <td>-1.680774</td>\n",
       "      <td>114.900459</td>\n",
       "      <td>88.229950</td>\n",
       "    </tr>\n",
       "    <tr>\n",
       "      <th rowspan=\"2\" valign=\"top\">3</th>\n",
       "      <th>0</th>\n",
       "      <td>36.041496</td>\n",
       "      <td>0.314395</td>\n",
       "      <td>-1.452390</td>\n",
       "      <td>37.837463</td>\n",
       "      <td>43.532368</td>\n",
       "    </tr>\n",
       "    <tr>\n",
       "      <th>1</th>\n",
       "      <td>16.130859</td>\n",
       "      <td>1.171140</td>\n",
       "      <td>3.017874</td>\n",
       "      <td>28.516983</td>\n",
       "      <td>43.532368</td>\n",
       "    </tr>\n",
       "    <tr>\n",
       "      <th rowspan=\"2\" valign=\"top\">4</th>\n",
       "      <th>0</th>\n",
       "      <td>59.089817</td>\n",
       "      <td>0.683459</td>\n",
       "      <td>-2.936984</td>\n",
       "      <td>73.436455</td>\n",
       "      <td>87.737595</td>\n",
       "    </tr>\n",
       "    <tr>\n",
       "      <th>1</th>\n",
       "      <td>25.823994</td>\n",
       "      <td>-0.451280</td>\n",
       "      <td>0.837369</td>\n",
       "      <td>28.498697</td>\n",
       "      <td>87.737595</td>\n",
       "    </tr>\n",
       "  </tbody>\n",
       "</table>\n",
       "</div>"
      ],
      "text/plain": [
       "                    lep_pt   lep_eta   lep_phi       lep_e       mass\n",
       "entry subentry                                                       \n",
       "0     0          53.508453 -0.844782  0.700931   73.764702  91.018303\n",
       "      1          40.709602 -0.327175 -3.141091   42.908089  91.018303\n",
       "1     0          96.640228 -0.175360  3.140826   98.129997  90.077324\n",
       "      1           9.672136 -2.249461 -1.268178   46.368736  90.077324\n",
       "2     0         139.955795  0.694377 -0.917329  175.073944  88.229950\n",
       "      1          97.921021  0.580702 -1.680774  114.900459  88.229950\n",
       "3     0          36.041496  0.314395 -1.452390   37.837463  43.532368\n",
       "      1          16.130859  1.171140  3.017874   28.516983  43.532368\n",
       "4     0          59.089817  0.683459 -2.936984   73.436455  87.737595\n",
       "      1          25.823994 -0.451280  0.837369   28.498697  87.737595"
      ]
     },
     "execution_count": 6,
     "metadata": {},
     "output_type": "execute_result"
    }
   ],
   "source": [
    "variables = ['lep_pt','lep_eta','lep_phi','lep_e']\n",
    "\n",
    "# Define empty list to hold all data for this sample\n",
    "sample_data = []\n",
    "data = []\n",
    "#data_pd = pd.DataFrame()\n",
    "\n",
    "entrystop = int(numevents * fraction)\n",
    "\n",
    "# Perform the cuts for each data entry in the tree\n",
    "for data in tree.iterate(variables, step_size=entrystop, library=\"ak\"): # the data will be in the form of an awkward array\n",
    "    nIn = len(data) # number of events in this batch\n",
    "    \n",
    "    data['mass'] = calc_mass(data['lep_pt'], data['lep_eta'], data['lep_phi'], data['lep_e'])\n",
    "    \n",
    "    nOut = len(data) # number of events passing cuts in this batch\n",
    "    print(\"\\t nIn: \"+str(nIn)+\",\\t nOut: \\t\"+str(nOut)) # events before and after\n",
    "    \n",
    "    # Append data to the whole sample data list\n",
    "    #sample_data.append(data)\n",
    "    \n",
    "#for data in tree.iterate(variables, library=\"ak\"):\n",
    "#print(ak.to_list(sample_data)[:5])\n",
    "\n",
    "print(len(data))\n",
    "print(ak.to_list(data[:5]))\n",
    "data_pd = ak.to_pandas(data)\n",
    "# Reset MultiIndex to remove 'subentry'\n",
    "#data_pd = data_pd.reset_index(level='subentry', drop=True)\n",
    "data_pd.head(10)"
   ]
  },
  {
   "cell_type": "code",
   "execution_count": 7,
   "metadata": {},
   "outputs": [
    {
     "name": "stdout",
     "output_type": "stream",
     "text": [
      "<class 'awkward.highlevel.Array'>\n",
      "[{lep_pt: [53.5, 40.7], lep_eta: [-0.845, ... lep_e: [73.2, 67.6], mass: 90.7}]\n"
     ]
    }
   ],
   "source": [
    "print(type(data))\n",
    "print(data)"
   ]
  },
  {
   "cell_type": "code",
   "execution_count": 8,
   "metadata": {},
   "outputs": [
    {
     "name": "stdout",
     "output_type": "stream",
     "text": [
      "[{'lep_pt': [53.508453369140625, 40.70960235595703], 'lep_eta': [-0.8447815775871277, -0.327175110578537], 'lep_phi': [0.7009308934211731, -3.1410913467407227], 'lep_e': [73.76470184326172, 42.90808868408203], 'mass': 91.01830291748047}, {'lep_pt': [96.64022827148438, 9.672136306762695], 'lep_eta': [-0.17536036670207977, -2.2494611740112305], 'lep_phi': [3.140826463699341, -1.2681776285171509], 'lep_e': [98.12999725341797, 46.368736267089844], 'mass': 90.07732391357422}, {'lep_pt': [139.95579528808594, 97.9210205078125], 'lep_eta': [0.694376528263092, 0.5807015299797058], 'lep_phi': [-0.9173291921615601, -1.6807739734649658], 'lep_e': [175.07394409179688, 114.90045928955078], 'mass': 88.22994995117188}, {'lep_pt': [36.04149627685547, 16.130859375], 'lep_eta': [0.31439512968063354, 1.1711399555206299], 'lep_phi': [-1.4523895978927612, 3.017874240875244], 'lep_e': [37.83746337890625, 28.516983032226562], 'mass': 43.53236770629883}, {'lep_pt': [59.08981704711914, 25.823993682861328], 'lep_eta': [0.6834590435028076, -0.45128002762794495], 'lep_phi': [-2.936984062194824, 0.8373687267303467], 'lep_e': [73.43645477294922, 28.49869728088379], 'mass': 87.73759460449219}]\n"
     ]
    }
   ],
   "source": [
    "print(ak.to_list(data)[:5])"
   ]
  },
  {
   "cell_type": "markdown",
   "metadata": {},
   "source": [
    "[Back to contents](#contents)"
   ]
  },
  {
   "cell_type": "markdown",
   "metadata": {},
   "source": [
    "<a id='plot_data'></a>"
   ]
  },
  {
   "cell_type": "markdown",
   "metadata": {},
   "source": [
    "## Function to plot Data"
   ]
  },
  {
   "cell_type": "code",
   "execution_count": 9,
   "metadata": {
    "scrolled": true
   },
   "outputs": [
    {
     "name": "stdout",
     "output_type": "stream",
     "text": [
      "656868\n",
      "[91, 90.1, 88.2, 43.5, 87.7]\n"
     ]
    },
    {
     "data": {
      "text/plain": [
       "Text(0, 0.5, 'Events')"
      ]
     },
     "execution_count": 9,
     "metadata": {},
     "output_type": "execute_result"
    },
    {
     "data": {
      "image/png": "[encoded data removed]",
      "text/plain": [
       "<Figure size 432x288 with 1 Axes>"
      ]
     },
     "metadata": {
      "needs_background": "light"
     },
     "output_type": "display_data"
    }
   ],
   "source": [
    "print(len(data['mass']))\n",
    "print(data['mass'][:5])\n",
    "bin_edges = np.arange(start=35, # The interval includes this value\n",
    "                      stop=110, # The interval doesn't include this value\n",
    "                      step=5 ) # Spacing between values\n",
    "bin_centres = (bin_edges[:-1] + bin_edges[1:]) / 2 # central values of each bin\n",
    "\n",
    "# histogram the data\n",
    "data_x,_ = np.histogram(data['mass'], bins=bin_edges ) \n",
    "\n",
    "# statistical error on the data\n",
    "data_x_errors = np.sqrt(data_x)\n",
    "\n",
    "# plot the data points\n",
    "plt.errorbar(x=bin_centres, \n",
    "                   y=data_x, \n",
    "                   yerr=data_x_errors,\n",
    "                   fmt='ko' ) # 'k' means black and 'o' is for circles\n",
    "\n",
    "# x-axis label\n",
    "plt.xlabel('Mll [GeV]')\n",
    "\n",
    "# y-axis label\n",
    "plt.ylabel('Events')\n",
    "\n",
    "# make the y-axis log scale\n",
    "#plt.yscale('log')"
   ]
  },
  {
   "attachments": {
    "Z%20boson.png": {
     "image/png": "[encoded data removed]"
    }
   },
   "cell_type": "markdown",
   "metadata": {},
   "source": [
    "Compare this with \"Total Cross Section\" as a function of \"Center of Mass Energy\".\n",
    "\n",
    "![Z%20boson.png](attachment:Z%20boson.png)\n",
    "\n",
    "<a id='tasks'></a>\n",
    "\n",
    "## Your tasks\n",
    "\n",
    "1. Write the invariant mass formula, $M^2=E^2-p^2$, with *c* included.\n",
    "2. Calculate the invariant mass for the first event, in GeV. \n",
    "    * lep_px[0] = 32387 MeV, \n",
    "    * lep_px[1] = -18772 MeV, \n",
    "    * lep_py[0] = 7047 MeV, \n",
    "    * lep_py[1] = -9563 MeV, \n",
    "    * lep_pz[0] = 144152 MeV, \n",
    "    * lep_pz[1] = -2942 MeV, \n",
    "    * lep_E[0] = 147913 MeV, \n",
    "    * lep_E[1] = 21272 MeV \n",
    "    * (can you check these values yourself?)\n",
    "    * (can you check your calculated value?)\n",
    "3. If lep[0] in the first event is an electron, what's its Lorentz factor, $\\gamma$? Use an electron mass of 0.5 MeV in the formula $E = \\gamma m$\n",
    "4. Calculate lep_p[0], the magnitude of the total momentum of lep[0].\n",
    "5. Using lep_p[0], calculate the speed of this electron. Use the formula $p = \\gamma mv/c$\n",
    "6. Write the possible Z decays into charged leptons. Give an argument as to whether or not each decay happens at the same rate.\n",
    "7. Besides charged leptons, what are the other possible decays of the Z?"
   ]
  },
  {
   "cell_type": "markdown",
   "metadata": {},
   "source": [
    "[Back to contents](#contents)"
   ]
  },
  {
   "cell_type": "markdown",
   "metadata": {},
   "source": [
    "Finding the Z boson in ATLAS data is a case of calculating invariant mass and plotting a range up to about 100 GeV. The Z boson then shows up in your graph!\n",
    "\n",
    "Hopefully you've enjoyed finding the Z boson yourself!"
   ]
  },
  {
   "cell_type": "markdown",
   "metadata": {},
   "source": [
    "<a id='going_further'></a>"
   ]
  },
  {
   "cell_type": "markdown",
   "metadata": {},
   "source": [
    "## Going further\n",
    "\n",
    "If you want to go further, there are a number of things you could try: \n",
    "* **Estimate the mass of the Z boson** from your graph.\n",
    "* **Estimate the width of the Z boson** from your graph.\n",
    "* **Increase the fraction** of events processed. In the line `entrystop=numevents*` in '[Can we process the data yet?!](#load_data)', increase the number from 0.001. \n",
    "* **Use larger data files**. `data_A` used so far corresponds to an integrated luminosity of 0.5 fb$^{-1}$. Other files include: `data_B` 1.9 fb$^{-1}$, `data_C` 2.9 fb$^{-1}$, `data_D` 4.7 fb$^{-1}$. Try one of these larger files.\n",
    "* **Use all data files together**. `data_A` + `B` + `C` + `D` corresponds to about 1/14th of the data collected by ATLAS at a centre-of-mass energy of 13 TeV - the highest energy particle collisions achieved on earth.\n",
    "* **Write the name of the type of peak shown in your graph**.\n",
    "* **Make a fit to your graph**.\n",
    "* **Extract the Z boson mass from your fit**.\n",
    "* **Extract the Z boson width from your fit**.\n",
    "\n",
    "With each change, keep an eye on your graph."
   ]
  },
  {
   "cell_type": "markdown",
   "metadata": {},
   "source": [
    "[Back to contents](#contents)"
   ]
  }
 ],
 "metadata": {
  "@webio": {
   "lastCommId": null,
   "lastKernelId": null
  },
  "kernelspec": {
   "display_name": "Python 3",
   "language": "python",
   "name": "python3"
  },
  "language_info": {
   "codemirror_mode": {
    "name": "ipython",
    "version": 3
   },
   "file_extension": ".py",
   "mimetype": "text/x-python",
   "name": "python",
   "nbconvert_exporter": "python",
   "pygments_lexer": "ipython3",
   "version": "3.9.12"
  }
 },
 "nbformat": 4,
 "nbformat_minor": 4
}
