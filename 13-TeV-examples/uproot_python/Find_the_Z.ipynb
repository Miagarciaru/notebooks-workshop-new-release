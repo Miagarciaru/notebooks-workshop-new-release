{
 "cells": [
  {
   "cell_type": "markdown",
   "metadata": {},
   "source": [
    "<CENTER><img src=\"../../images/ATLASOD.gif\" style=\"width:50%\"></CENTER>"
   ]
  },
  {
   "cell_type": "markdown",
   "metadata": {},
   "source": [
    "# Find the Z boson yourself!\n",
    "This notebook uses ATLAS Open Data http://opendata.atlas.cern to show you the steps to find the Z boson.\n",
    "\n",
    "The whole notebook takes less than an hour to follow through.\n",
    "\n",
    "Notebooks are web applications that allow you to create and share documents that can contain:\n",
    "1. live code\n",
    "2. visualisations\n",
    "3. narrative text\n",
    "\n",
    "Notebooks are a perfect platform to develop in Python, since you'll need exactly those 3 things: code, visualisations and narrative text!\n",
    "\n",
    "By the end of this notebook you will be able to:\n",
    "1. find the Z boson yourself\n",
    "2. know some things you can change to improve your measurement"
   ]
  },
  {
   "cell_type": "markdown",
   "metadata": {},
   "source": [
    "<CENTER><img src=\"images/feynman_diagrams/Zee_feynman.png\" style=\"width:40%\"></CENTER>"
   ]
  },
  {
   "cell_type": "markdown",
   "metadata": {},
   "source": [
    "<a id='contents'></a>"
   ]
  },
  {
   "cell_type": "markdown",
   "metadata": {},
   "source": [
    "Contents: \n",
    "\n",
    "[Running a Jupyter notebook](#running) <br />\n",
    "[To setup everytime](#setupeverytime) <br />\n",
    "[Where's my data](#fraction) <br />\n",
    "[Calculate that invariant mass!](#good_leptons) <br />\n",
    "[Can we process the data yet?!](#load_data) <br />\n",
    "[Plot Data](#plot_data) <br />\n",
    "[Your tasks](#tasks) <br />\n",
    "[Going further](#going_further) <br />"
   ]
  },
  {
   "cell_type": "markdown",
   "metadata": {},
   "source": [
    "<a id='running'></a>"
   ]
  },
  {
   "cell_type": "markdown",
   "metadata": {},
   "source": [
    "## Running a Jupyter notebook\n",
    "\n",
    "To run the whole Jupyter notebook, in the top menu click Cell -> Run All.\n",
    "\n",
    "To propagate a change you've made to a piece of code, click Cell -> Run All Below.\n",
    "\n",
    "You can also run a single code cell, by using the keyboard shortcut Shift+Enter."
   ]
  },
  {
   "cell_type": "markdown",
   "metadata": {},
   "source": [
    "[Back to contents](#contents)"
   ]
  },
  {
   "cell_type": "markdown",
   "metadata": {},
   "source": [
    "<a id='setupeverytime'></a>"
   ]
  },
  {
   "cell_type": "markdown",
   "metadata": {},
   "source": [
    "## To setup everytime\n",
    "We're going to be using a number of tools to help us:\n",
    "* urllib: let us download files\n",
    "* uproot: lets us read .root files typically used in particle physics into data formats used in Python\n",
    "* pandas: lets us store data as dataframes, a format widely used in Python\n",
    "* numpy: provides numerical calculations such as histogramming\n",
    "* matplotlib: common tool for making plots, figures, images, visualisations"
   ]
  },
  {
   "cell_type": "code",
   "execution_count": 1,
   "metadata": {},
   "outputs": [],
   "source": [
    "import sys\n",
    "#import os.path\n",
    "# update the pip package installer\n",
    "#!{sys.executable} -m pip install --upgrade --user pip\n",
    "# install required packages\n",
    "#!{sys.executable} -m pip install --upgrade --user uproot4 awkward vector numpy matplotlib"
   ]
  },
  {
   "cell_type": "code",
   "execution_count": 2,
   "metadata": {
    "scrolled": true
   },
   "outputs": [],
   "source": [
    "#import urllib.request # for downloading files\n",
    "import pandas as pd # to store data as dataframes\n",
    "import numpy as np # for numerical calculations such as histogramming\n",
    "import uproot # to read .root files as dataframes\n",
    "import matplotlib.pyplot as plt # for plotting\n",
    "import awkward as ak # to represent nested data in columnar format\n",
    "import time"
   ]
  },
  {
   "cell_type": "markdown",
   "metadata": {},
   "source": [
    "<a id='fraction'></a>"
   ]
  },
  {
   "cell_type": "markdown",
   "metadata": {},
   "source": [
    "## Where's my data?"
   ]
  },
  {
   "cell_type": "code",
   "execution_count": 3,
   "metadata": {},
   "outputs": [],
   "source": [
    "path_folder = 'https://atlas-opendata.web.cern.ch/13TeV/2J2LMET30/Data/'"
   ]
  },
  {
   "cell_type": "markdown",
   "metadata": {},
   "source": [
    "[Back to contents](#contents)"
   ]
  },
  {
   "cell_type": "markdown",
   "metadata": {},
   "source": [
    "<a id='good_leptons'></a>"
   ]
  },
  {
   "cell_type": "markdown",
   "metadata": {},
   "source": [
    "## Calculate that invariant mass!"
   ]
  },
  {
   "cell_type": "markdown",
   "metadata": {},
   "source": [
    "Fill in the missing lines to calculate invariant mass.\n",
    "\n",
    "1. If the energy of the 2 leptons are *lep_E[0]* and *lep_E[1]*, write the sum of energy, *sumE*\n",
    "2. Write the sum of x-momentum, *sumpx*\n",
    "3. Do the same for y and z momenta (*sumpy* and *sumpz*)\n",
    "4. Now you have the x,y,z components sumpx,sumpy,sumpz. The vector **sump** = (sumpx,sumpy,sumpz). Write the magnitude of total momentum, *sump*.\n",
    "\n",
    "The invariant mass, *M*, of a parent particle decaying to two daughter particles is related to properties of the daughter particles by the formula:\n",
    "\n",
    "$$M^2=E^2-p^2,$$\n",
    "\n",
    "where *E* is the total energy of the daughter particles, and *p* is the magnitude of the vector sum of the momenta of the daughter particles. This is written in natural units with *c*=1.\n",
    "\n",
    "5. Write *Mll* using this formula for invariant mass"
   ]
  },
  {
   "cell_type": "code",
   "execution_count": 4,
   "metadata": {},
   "outputs": [],
   "source": [
    "# Calculate invariant mass of the 4-lepton state\n",
    "# [:, i] selects the i-th lepton in each event\n",
    "def calc_mass(lep_pt, lep_eta, lep_phi, lep_e):\n",
    "    #p4 = vector.zip({\"pt\": lep_pt, \"eta\": lep_eta, \"phi\": lep_phi, \"E\": lep_e})\n",
    "    #invariant_mass = (p4[:, 0] + p4[:, 1] + p4[:, 2] + p4[:, 3]).M # .M calculates the invariant mass\n",
    "    \n",
    "    \n",
    "    # sumE = sum of energy\n",
    "    sumE = lep_e[:, 0]+lep_e[:, 1]\n",
    "    \n",
    "    px_0 = lep_pt[:, 0]*np.cos(lep_phi[:, 0]) # x-momentum of 0th lepton\n",
    "    px_1 = lep_pt[:, 1]*np.cos(lep_phi[:, 1]) # x-momentum of 1st lepton\n",
    "    py_0 = lep_pt[:, 0]*np.sin(lep_phi[:, 0]) # y-momentum of 0th lepton\n",
    "    py_1 = lep_pt[:, 1]*np.sin(lep_phi[:, 1]) # y-momentum of 1st lepton\n",
    "    pz_0 = lep_pt[:, 0]*np.sinh(lep_eta[:, 0]) # z-momentum of 0th lepton\n",
    "    pz_1 = lep_pt[:, 1]*np.sinh(lep_eta[:, 1]) # z-momentum of 1st lepton\n",
    "    \n",
    "    # sumpx = sum of x-momenta\n",
    "    sumpx = px_0 + px_1\n",
    "    \n",
    "    # sumpy = sum of y-momenta\n",
    "    sumpy = py_0 + py_1\n",
    "    \n",
    "    # sumpz = sum of z-momenta\n",
    "    sumpz = pz_0 + pz_1\n",
    "    \n",
    "    # sump = magnitude of total momentum vector. Remember it's a vector!\n",
    "    sump = ((sumpx)**2 + (sumpy)**2 + (sumpz)**2)**(1/2)\n",
    "    \n",
    "    # Mll = invariant mass from M^2 = E^2 - p^2\n",
    "    Mll = ((sumE)**2 - (sump)**2)**(1/2)\n",
    "    \n",
    "    return Mll # divide by 1000 to go from MeV to GeV"
   ]
  },
  {
   "cell_type": "markdown",
   "metadata": {},
   "source": [
    "<a id='load_data'></a>"
   ]
  },
  {
   "cell_type": "markdown",
   "metadata": {},
   "source": [
    "## Can we process the data yet?!"
   ]
  },
  {
   "cell_type": "code",
   "execution_count": 5,
   "metadata": {},
   "outputs": [],
   "source": [
    "# Here you can add or remove the data samples for the analysis\n",
    "#data_list = ['data15_periodD']\n",
    "data_list = ['data15_periodD', 'data15_periodE', 'data15_periodF', 'data15_periodG', 'data15_periodH', \n",
    "             'data15_periodJ', 'data16_periodA', 'data16_periodB', 'data16_periodC', 'data16_periodD', \n",
    "             'data16_periodE', 'data16_periodF', 'data16_periodG', 'data16_PeriodI', 'data16_periodK',\n",
    "             'data16_periodL'] # Whole list of data samples available\n",
    "\n",
    "fraction = 0.1"
   ]
  },
  {
   "cell_type": "code",
   "execution_count": 6,
   "metadata": {},
   "outputs": [
    {
     "name": "stdout",
     "output_type": "stream",
     "text": [
      "https://atlas-opendata.web.cern.ch/13TeV/2J2LMET30/Data/data15_periodD.root\n",
      "Number of events in sample data15_periodD:  5482\n",
      "https://atlas-opendata.web.cern.ch/13TeV/2J2LMET30/Data/data15_periodE.root\n",
      "Number of events in sample data15_periodE:  44036\n",
      "https://atlas-opendata.web.cern.ch/13TeV/2J2LMET30/Data/data15_periodF.root\n",
      "Number of events in sample data15_periodF:  30743\n",
      "https://atlas-opendata.web.cern.ch/13TeV/2J2LMET30/Data/data15_periodG.root\n",
      "Number of events in sample data15_periodG:  71420\n",
      "https://atlas-opendata.web.cern.ch/13TeV/2J2LMET30/Data/data15_periodH.root\n",
      "Number of events in sample data15_periodH:  28217\n",
      "https://atlas-opendata.web.cern.ch/13TeV/2J2LMET30/Data/data15_periodJ.root\n",
      "Number of events in sample data15_periodJ:  142381\n",
      "https://atlas-opendata.web.cern.ch/13TeV/2J2LMET30/Data/data16_periodA.root\n",
      "Number of events in sample data16_periodA:  53803\n",
      "https://atlas-opendata.web.cern.ch/13TeV/2J2LMET30/Data/data16_periodB.root\n",
      "Number of events in sample data16_periodB:  171635\n",
      "https://atlas-opendata.web.cern.ch/13TeV/2J2LMET30/Data/data16_periodC.root\n",
      "Number of events in sample data16_periodC:  274752\n",
      "https://atlas-opendata.web.cern.ch/13TeV/2J2LMET30/Data/data16_periodD.root\n",
      "Number of events in sample data16_periodD:  448764\n",
      "https://atlas-opendata.web.cern.ch/13TeV/2J2LMET30/Data/data16_periodE.root\n",
      "Number of events in sample data16_periodE:  138611\n",
      "https://atlas-opendata.web.cern.ch/13TeV/2J2LMET30/Data/data16_periodF.root\n",
      "Number of events in sample data16_periodF:  346531\n",
      "https://atlas-opendata.web.cern.ch/13TeV/2J2LMET30/Data/data16_periodG.root\n",
      "Number of events in sample data16_periodG:  401855\n",
      "https://atlas-opendata.web.cern.ch/13TeV/2J2LMET30/Data/data16_PeriodI.root\n",
      "Number of events in sample data16_PeriodI:  584048\n",
      "https://atlas-opendata.web.cern.ch/13TeV/2J2LMET30/Data/data16_periodK.root\n",
      "Number of events in sample data16_periodK:  238923\n",
      "https://atlas-opendata.web.cern.ch/13TeV/2J2LMET30/Data/data16_periodL.root\n",
      "Number of events in sample data16_periodL:  656868\n"
     ]
    }
   ],
   "source": [
    "for sample in data_list:\n",
    "    path_file = path_folder+sample+'.root'\n",
    "    print(path_file)\n",
    "    tree = uproot.open(path_file)[\"analysis\"] # open the tree called analysis\n",
    "    numevents = tree.num_entries # number of events\n",
    "    print(\"Number of events in sample \"+sample+\": \", numevents)"
   ]
  },
  {
   "cell_type": "code",
   "execution_count": 7,
   "metadata": {},
   "outputs": [
    {
     "name": "stdout",
     "output_type": "stream",
     "text": [
      "Processing sample data15_periodD with a total number of events:  5482\n",
      "\t nIn: 191,\t nOut: \t191\n",
      "\t nIn: 191,\t nOut: \t191\n",
      "\t nIn: 166,\t nOut: \t166\n",
      "Processing sample data15_periodE with a total number of events:  44036\n",
      "\t nIn: 1541,\t nOut: \t1541\n"
     ]
    },
    {
     "name": "stderr",
     "output_type": "stream",
     "text": [
      "/cvmfs/sft.cern.ch/lcg/views/LCG_105a_swan/x86_64-el9-gcc13-opt/lib/python3.9/site-packages/awkward/_connect/_numpy.py:195: RuntimeWarning: invalid value encountered in power\n",
      "  result = getattr(ufunc, method)(\n"
     ]
    },
    {
     "name": "stdout",
     "output_type": "stream",
     "text": [
      "\t nIn: 1541,\t nOut: \t1541\n",
      "\t nIn: 1321,\t nOut: \t1321\n",
      "Processing sample data15_periodF with a total number of events:  30743\n",
      "\t nIn: 1075,\t nOut: \t1075\n",
      "\t nIn: 1075,\t nOut: \t1075\n",
      "\t nIn: 924,\t nOut: \t924\n",
      "Processing sample data15_periodG with a total number of events:  71420\n",
      "\t nIn: 2499,\t nOut: \t2499\n",
      "\t nIn: 2499,\t nOut: \t2499\n",
      "\t nIn: 2144,\t nOut: \t2144\n",
      "Processing sample data15_periodH with a total number of events:  28217\n",
      "\t nIn: 987,\t nOut: \t987\n",
      "\t nIn: 987,\t nOut: \t987\n",
      "\t nIn: 847,\t nOut: \t847\n",
      "Processing sample data15_periodJ with a total number of events:  142381\n",
      "\t nIn: 4983,\t nOut: \t4983\n",
      "\t nIn: 4983,\t nOut: \t4983\n",
      "\t nIn: 4272,\t nOut: \t4272\n",
      "Processing sample data16_periodA with a total number of events:  53803\n",
      "\t nIn: 1882,\t nOut: \t1882\n",
      "\t nIn: 1882,\t nOut: \t1882\n",
      "\t nIn: 1616,\t nOut: \t1616\n",
      "Processing sample data16_periodB with a total number of events:  171635\n",
      "\t nIn: 6007,\t nOut: \t6007\n",
      "\t nIn: 6007,\t nOut: \t6007\n",
      "\t nIn: 5149,\t nOut: \t5149\n",
      "Processing sample data16_periodC with a total number of events:  274752\n",
      "\t nIn: 9616,\t nOut: \t9616\n",
      "\t nIn: 9616,\t nOut: \t9616\n",
      "\t nIn: 8243,\t nOut: \t8243\n",
      "Processing sample data16_periodD with a total number of events:  448764\n",
      "\t nIn: 15706,\t nOut: \t15706\n",
      "\t nIn: 15706,\t nOut: \t15706\n",
      "\t nIn: 13464,\t nOut: \t13464\n",
      "Processing sample data16_periodE with a total number of events:  138611\n",
      "\t nIn: 4851,\t nOut: \t4851\n",
      "\t nIn: 4851,\t nOut: \t4851\n",
      "\t nIn: 4159,\t nOut: \t4159\n",
      "Processing sample data16_periodF with a total number of events:  346531\n",
      "\t nIn: 12128,\t nOut: \t12128\n",
      "\t nIn: 12128,\t nOut: \t12128\n",
      "\t nIn: 10397,\t nOut: \t10397\n",
      "Processing sample data16_periodG with a total number of events:  401855\n",
      "\t nIn: 14064,\t nOut: \t14064\n",
      "\t nIn: 14064,\t nOut: \t14064\n",
      "\t nIn: 12057,\t nOut: \t12057\n",
      "Processing sample data16_PeriodI with a total number of events:  584048\n",
      "\t nIn: 20441,\t nOut: \t20441\n",
      "\t nIn: 20441,\t nOut: \t20441\n",
      "\t nIn: 17522,\t nOut: \t17522\n",
      "Processing sample data16_periodK with a total number of events:  238923\n",
      "\t nIn: 8362,\t nOut: \t8362\n",
      "\t nIn: 8362,\t nOut: \t8362\n",
      "\t nIn: 7168,\t nOut: \t7168\n",
      "Processing sample data16_periodL with a total number of events:  656868\n",
      "\t nIn: 22990,\t nOut: \t22990\n",
      "\t nIn: 22990,\t nOut: \t22990\n",
      "\t nIn: 19706,\t nOut: \t19706\n",
      "Time taken: 2.9min\n"
     ]
    }
   ],
   "source": [
    "start = time.time() # time at start of whole processing\n",
    "\n",
    "sample_data = []\n",
    "variables = ['lep_charge', 'lep_type', 'lep_pt','lep_eta','lep_phi','lep_e']\n",
    "\n",
    "total_initial_events = 0\n",
    "total_final_events = 0\n",
    "\n",
    "for sample in data_list:\n",
    "    path_file = path_folder+sample+'.root'\n",
    "    tree = uproot.open(path_file)[\"analysis\"] # open the tree called analysis\n",
    "    numevents = tree.num_entries # number of events\n",
    "    print(\"Processing sample \"+sample+\" with a total number of events: \", numevents)\n",
    "    entrystop = int(numevents * fraction)\n",
    "    \n",
    "    # Perform the cuts for each data entry in the tree\n",
    "    for data in tree.iterate(variables, entry_stop=entrystop, step_size=int(entrystop*0.35), library=\"ak\"): # the data will be in the form of an awkward array\n",
    "        nIn = len(data) # number of events in this batch\n",
    "        \n",
    "        # Calculate reconstructed dilepton invariant mass using the function calc_mll defined above\n",
    "        data['mass'] = calc_mass(data['lep_pt'], data['lep_eta'], data['lep_phi'], data['lep_e'])\n",
    "    \n",
    "        nOut = len(data) # number of events passing cuts in this batch\n",
    "        print(\"\\t nIn: \"+str(nIn)+\",\\t nOut: \\t\"+str(nOut)) # events before and after\n",
    "        \n",
    "        # Concatenate the current batch of data with the existing sample_data\n",
    "        sample_data = ak.concatenate([sample_data, data], axis=0)\n",
    "            \n",
    "elapsed = time.time() - start # time after whole processing\n",
    "print(\"Time taken: \"+str(round(elapsed/60.,1))+\"min\") # print total time taken"
   ]
  },
  {
   "cell_type": "code",
   "execution_count": 8,
   "metadata": {},
   "outputs": [
    {
     "name": "stdout",
     "output_type": "stream",
     "text": [
      "[112.71790313720703, 92.77616119384766, 35.93630599975586, 13.532079696655273, 88.2155990600586]\n"
     ]
    }
   ],
   "source": [
    "print(ak.to_list(sample_data['mass'])[:5])"
   ]
  },
  {
   "cell_type": "code",
   "execution_count": 9,
   "metadata": {},
   "outputs": [
    {
     "name": "stdout",
     "output_type": "stream",
     "text": [
      "[{'lep_charge': [1, -1], 'lep_type': [13, 13], 'lep_pt': [39.500762939453125, 28.03181266784668], 'lep_eta': [0.07896601408720016, -2.263336181640625], 'lep_phi': [-0.24319986999034882, 1.835705280303955], 'lep_e': [39.624122619628906, 136.22225952148438], 'mass': 112.71790313720703}, {'lep_charge': [-1, 1], 'lep_type': [13, 13], 'lep_pt': [40.010536193847656, 53.01445770263672], 'lep_eta': [-0.2747797966003418, -0.5154194831848145], 'lep_phi': [1.7070978879928589, -1.451306939125061], 'lep_e': [41.53067398071289, 60.21366882324219], 'mass': 92.77616119384766}, {'lep_charge': [-1, 1], 'lep_type': [11, 13], 'lep_pt': [8.645004272460938, 34.80541229248047], 'lep_eta': [1.2938930988311768, 2.330169677734375], 'lep_phi': [0.42172104120254517, -1.7425113916397095], 'lep_e': [16.9492130279541, 180.58731079101562], 'mass': 35.93630599975586}, {'lep_charge': [-1, 1], 'lep_type': [13, 13], 'lep_pt': [54.01054763793945, 25.271930694580078], 'lep_eta': [1.672802448272705, 1.9823359251022339], 'lep_phi': [-2.374850273132324, -2.1807608604431152], 'lep_e': [148.92860412597656, 93.47370910644531], 'mass': 13.532079696655273}, {'lep_charge': [1, -1], 'lep_type': [13, 13], 'lep_pt': [24.499900817871094, 96.541748046875], 'lep_eta': [-1.4762156009674072, -1.0912128686904907], 'lep_phi': [1.2726831436157227, -0.9046333432197571], 'lep_e': [56.40932083129883, 159.9548797607422], 'mass': 88.2155990600586}]\n"
     ]
    }
   ],
   "source": [
    "print(ak.to_list(sample_data[:5]))"
   ]
  },
  {
   "cell_type": "markdown",
   "metadata": {},
   "source": [
    "[Back to contents](#contents)"
   ]
  },
  {
   "cell_type": "markdown",
   "metadata": {},
   "source": [
    "<a id='plot_data'></a>"
   ]
  },
  {
   "cell_type": "markdown",
   "metadata": {},
   "source": [
    "## Function to plot Data"
   ]
  },
  {
   "cell_type": "code",
   "execution_count": 10,
   "metadata": {
    "scrolled": true
   },
   "outputs": [
    {
     "data": {
      "text/plain": [
       "Text(0, 0.5, 'Events')"
      ]
     },
     "execution_count": 10,
     "metadata": {},
     "output_type": "execute_result"
    },
    {
     "data": {
      "image/png": "[encoded data removed]",
      "text/plain": [
       "<Figure size 432x288 with 1 Axes>"
      ]
     },
     "metadata": {
      "needs_background": "light"
     },
     "output_type": "display_data"
    }
   ],
   "source": [
    "bin_edges = np.arange(start=35, # The interval includes this value\n",
    "                      stop=110, # The interval doesn't include this value\n",
    "                      step=5 ) # Spacing between values\n",
    "bin_centres = (bin_edges[:-1] + bin_edges[1:]) / 2 # central values of each bin\n",
    "\n",
    "# histogram the data\n",
    "data_x,_ = np.histogram(sample_data['mass'], bins=bin_edges ) \n",
    "\n",
    "# statistical error on the data\n",
    "data_x_errors = np.sqrt(data_x)\n",
    "\n",
    "# plot the data points\n",
    "plt.errorbar(x=bin_centres, \n",
    "                   y=data_x, \n",
    "                   yerr=data_x_errors,\n",
    "                   fmt='ko' ) # 'k' means black and 'o' is for circles\n",
    "\n",
    "# x-axis label\n",
    "plt.xlabel('Mll [GeV]')\n",
    "\n",
    "# y-axis label\n",
    "plt.ylabel('Events')\n",
    "\n",
    "# make the y-axis log scale\n",
    "#plt.yscale('log')"
   ]
  },
  {
   "attachments": {
    "Z%20boson.png": {
     "image/png": "[encoded data removed]"
    }
   },
   "cell_type": "markdown",
   "metadata": {},
   "source": [
    "Compare this with \"Total Cross Section\" as a function of \"Center of Mass Energy\".\n",
    "\n",
    "![Z%20boson.png](attachment:Z%20boson.png)\n",
    "\n",
    "<a id='tasks'></a>\n",
    "\n",
    "## Your tasks\n",
    "\n",
    "1. Write the invariant mass formula, $M^2=E^2-p^2$, with *c* included.\n",
    "2. Calculate the invariant mass for the first event, in GeV. \n",
    "    * lep_px[0] = 32387 MeV, \n",
    "    * lep_px[1] = -18772 MeV, \n",
    "    * lep_py[0] = 7047 MeV, \n",
    "    * lep_py[1] = -9563 MeV, \n",
    "    * lep_pz[0] = 144152 MeV, \n",
    "    * lep_pz[1] = -2942 MeV, \n",
    "    * lep_E[0] = 147913 MeV, \n",
    "    * lep_E[1] = 21272 MeV \n",
    "    * (can you check these values yourself?)\n",
    "    * (can you check your calculated value?)\n",
    "3. If lep[0] in the first event is an electron, what's its Lorentz factor, $\\gamma$? Use an electron mass of 0.5 MeV in the formula $E = \\gamma m$\n",
    "4. Calculate lep_p[0], the magnitude of the total momentum of lep[0].\n",
    "5. Using lep_p[0], calculate the speed of this electron. Use the formula $p = \\gamma mv/c$\n",
    "6. Write the possible Z decays into charged leptons. Give an argument as to whether or not each decay happens at the same rate.\n",
    "7. Besides charged leptons, what are the other possible decays of the Z?"
   ]
  },
  {
   "cell_type": "markdown",
   "metadata": {},
   "source": [
    "[Back to contents](#contents)"
   ]
  },
  {
   "cell_type": "markdown",
   "metadata": {},
   "source": [
    "Finding the Z boson in ATLAS data is a case of calculating invariant mass and plotting a range up to about 100 GeV. The Z boson then shows up in your graph!\n",
    "\n",
    "Hopefully you've enjoyed finding the Z boson yourself!"
   ]
  },
  {
   "cell_type": "markdown",
   "metadata": {},
   "source": [
    "<a id='going_further'></a>"
   ]
  },
  {
   "cell_type": "markdown",
   "metadata": {},
   "source": [
    "## Going further\n",
    "\n",
    "If you want to go further, there are a number of things you could try: \n",
    "* **Estimate the mass of the Z boson** from your graph.\n",
    "* **Estimate the width of the Z boson** from your graph.\n",
    "* **Increase the fraction** of events processed. In the line `entrystop=numevents*` in '[Can we process the data yet?!](#load_data)', increase the number from 0.001. \n",
    "* **Use larger data files**. `data_A` used so far corresponds to an integrated luminosity of 0.5 fb$^{-1}$. Other files include: `data_B` 1.9 fb$^{-1}$, `data_C` 2.9 fb$^{-1}$, `data_D` 4.7 fb$^{-1}$. Try one of these larger files.\n",
    "* **Use all data files together**. `data_A` + `B` + `C` + `D` corresponds to about 1/14th of the data collected by ATLAS at a centre-of-mass energy of 13 TeV - the highest energy particle collisions achieved on earth.\n",
    "* **Write the name of the type of peak shown in your graph**.\n",
    "* **Make a fit to your graph**.\n",
    "* **Extract the Z boson mass from your fit**.\n",
    "* **Extract the Z boson width from your fit**.\n",
    "\n",
    "With each change, keep an eye on your graph."
   ]
  },
  {
   "cell_type": "markdown",
   "metadata": {},
   "source": [
    "[Back to contents](#contents)"
   ]
  }
 ],
 "metadata": {
  "@webio": {
   "lastCommId": null,
   "lastKernelId": null
  },
  "kernelspec": {
   "display_name": "Python 3",
   "language": "python",
   "name": "python3"
  },
  "language_info": {
   "codemirror_mode": {
    "name": "ipython",
    "version": 3
   },
   "file_extension": ".py",
   "mimetype": "text/x-python",
   "name": "python",
   "nbconvert_exporter": "python",
   "pygments_lexer": "ipython3",
   "version": "3.9.12"
  }
 },
 "nbformat": 4,
 "nbformat_minor": 4
}
