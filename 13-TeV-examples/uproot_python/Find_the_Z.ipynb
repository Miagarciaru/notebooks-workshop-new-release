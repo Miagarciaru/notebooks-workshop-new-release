{
 "cells": [
  {
   "cell_type": "markdown",
   "metadata": {},
   "source": [
    "<CENTER><img src=\"../../images/ATLASOD.gif\" style=\"width:50%\"></CENTER>"
   ]
  },
  {
   "cell_type": "markdown",
   "metadata": {},
   "source": [
    "# Find the Z boson yourself!\n",
    "This notebook uses ATLAS Open Data http://opendata.atlas.cern to show you the steps to find the Z boson.\n",
    "\n",
    "The whole notebook takes less than an hour to follow through.\n",
    "\n",
    "Notebooks are web applications that allow you to create and share documents that can contain:\n",
    "1. live code\n",
    "2. visualisations\n",
    "3. narrative text\n",
    "\n",
    "Notebooks are a perfect platform to develop in Python, since you'll need exactly those 3 things: code, visualisations and narrative text!\n",
    "\n",
    "By the end of this notebook you will be able to:\n",
    "1. find the Z boson yourself\n",
    "2. know some things you can change to improve your measurement"
   ]
  },
  {
   "cell_type": "markdown",
   "metadata": {},
   "source": [
    "<CENTER><img src=\"images/feynman_diagrams/Zee_feynman.png\" style=\"width:40%\"></CENTER>"
   ]
  },
  {
   "cell_type": "markdown",
   "metadata": {},
   "source": [
    "<a id='contents'></a>"
   ]
  },
  {
   "cell_type": "markdown",
   "metadata": {},
   "source": [
    "Contents: \n",
    "\n",
    "[Running a Jupyter notebook](#running) <br />\n",
    "[To setup everytime](#setupeverytime) <br />\n",
    "[Where's my data](#fraction) <br />\n",
    "[Calculate that invariant mass!](#good_leptons) <br />\n",
    "[Can we process the data yet?!](#load_data) <br />\n",
    "[Plot Data](#plot_data) <br />\n",
    "[Your tasks](#tasks) <br />\n",
    "[Going further](#going_further) <br />"
   ]
  },
  {
   "cell_type": "markdown",
   "metadata": {},
   "source": [
    "<a id='running'></a>"
   ]
  },
  {
   "cell_type": "markdown",
   "metadata": {},
   "source": [
    "## Running a Jupyter notebook\n",
    "\n",
    "To run the whole Jupyter notebook, in the top menu click Cell -> Run All.\n",
    "\n",
    "To propagate a change you've made to a piece of code, click Cell -> Run All Below.\n",
    "\n",
    "You can also run a single code cell, by using the keyboard shortcut Shift+Enter."
   ]
  },
  {
   "cell_type": "markdown",
   "metadata": {},
   "source": [
    "[Back to contents](#contents)"
   ]
  },
  {
   "cell_type": "markdown",
   "metadata": {},
   "source": [
    "<a id='setupeverytime'></a>"
   ]
  },
  {
   "cell_type": "markdown",
   "metadata": {},
   "source": [
    "## To setup everytime\n",
    "We're going to be using a number of tools to help us:\n",
    "* urllib: let us download files\n",
    "* uproot: lets us read .root files typically used in particle physics into data formats used in Python\n",
    "* pandas: lets us store data as dataframes, a format widely used in Python\n",
    "* numpy: provides numerical calculations such as histogramming\n",
    "* matplotlib: common tool for making plots, figures, images, visualisations"
   ]
  },
  {
   "cell_type": "code",
   "execution_count": 1,
   "metadata": {},
   "outputs": [],
   "source": [
    "import sys\n",
    "import os.path\n",
    "# update the pip package installer\n",
    "#!{sys.executable} -m pip install --upgrade --user pip\n",
    "# install required packages\n",
    "#!{sys.executable} -m pip install --upgrade --user uproot4 awkward vector numpy matplotlib"
   ]
  },
  {
   "cell_type": "code",
   "execution_count": 2,
   "metadata": {
    "scrolled": true
   },
   "outputs": [],
   "source": [
    "import urllib.request # for downloading files\n",
    "import pandas as pd # to store data as dataframes\n",
    "import numpy as np # for numerical calculations such as histogramming\n",
    "import uproot # to read .root files as dataframes\n",
    "import matplotlib.pyplot as plt # for plotting\n",
    "import awkward as ak # to represent nested data in columnar format"
   ]
  },
  {
   "cell_type": "markdown",
   "metadata": {},
   "source": [
    "<a id='fraction'></a>"
   ]
  },
  {
   "cell_type": "markdown",
   "metadata": {},
   "source": [
    "## Where's my data?"
   ]
  },
  {
   "cell_type": "code",
   "execution_count": 3,
   "metadata": {},
   "outputs": [],
   "source": [
    "filename = 'data15_periodD.root'\n",
    "url = '2lepfolder/Data/'+filename"
   ]
  },
  {
   "cell_type": "markdown",
   "metadata": {},
   "source": [
    "[Back to contents](#contents)"
   ]
  },
  {
   "cell_type": "markdown",
   "metadata": {},
   "source": [
    "<a id='good_leptons'></a>"
   ]
  },
  {
   "cell_type": "markdown",
   "metadata": {},
   "source": [
    "## Calculate that invariant mass!"
   ]
  },
  {
   "cell_type": "markdown",
   "metadata": {},
   "source": [
    "Fill in the missing lines to calculate invariant mass.\n",
    "\n",
    "1. If the energy of the 2 leptons are *lep_E[0]* and *lep_E[1]*, write the sum of energy, *sumE*\n",
    "2. Write the sum of x-momentum, *sumpx*\n",
    "3. Do the same for y and z momenta (*sumpy* and *sumpz*)\n",
    "4. Now you have the x,y,z components sumpx,sumpy,sumpz. The vector **sump** = (sumpx,sumpy,sumpz). Write the magnitude of total momentum, *sump*.\n",
    "\n",
    "The invariant mass, *M*, of a parent particle decaying to two daughter particles is related to properties of the daughter particles by the formula:\n",
    "\n",
    "$$M^2=E^2-p^2,$$\n",
    "\n",
    "where *E* is the total energy of the daughter particles, and *p* is the magnitude of the vector sum of the momenta of the daughter particles. This is written in natural units with *c*=1.\n",
    "\n",
    "5. Write *Mll* using this formula for invariant mass"
   ]
  },
  {
   "cell_type": "code",
   "execution_count": 4,
   "metadata": {},
   "outputs": [],
   "source": [
    "# Calculate invariant mass of the 4-lepton state\n",
    "# [:, i] selects the i-th lepton in each event\n",
    "def calc_mass(lep_pt, lep_eta, lep_phi, lep_e):\n",
    "    #p4 = vector.zip({\"pt\": lep_pt, \"eta\": lep_eta, \"phi\": lep_phi, \"E\": lep_e})\n",
    "    #invariant_mass = (p4[:, 0] + p4[:, 1] + p4[:, 2] + p4[:, 3]).M # .M calculates the invariant mass\n",
    "    \n",
    "    \n",
    "    # sumE = sum of energy\n",
    "    sumE = lep_e[:, 0]+lep_e[:, 1]\n",
    "    \n",
    "    px_0 = lep_pt[:, 0]*np.cos(lep_phi[:, 0]) # x-momentum of 0th lepton\n",
    "    px_1 = lep_pt[:, 1]*np.cos(lep_phi[:, 1]) # x-momentum of 1st lepton\n",
    "    py_0 = lep_pt[:, 0]*np.sin(lep_phi[:, 0]) # y-momentum of 0th lepton\n",
    "    py_1 = lep_pt[:, 1]*np.sin(lep_phi[:, 1]) # y-momentum of 1st lepton\n",
    "    pz_0 = lep_pt[:, 0]*np.sinh(lep_eta[:, 0]) # z-momentum of 0th lepton\n",
    "    pz_1 = lep_pt[:, 1]*np.sinh(lep_eta[:, 1]) # z-momentum of 1st lepton\n",
    "    \n",
    "    # sumpx = sum of x-momenta\n",
    "    sumpx = px_0 + px_1\n",
    "    \n",
    "    # sumpy = sum of y-momenta\n",
    "    sumpy = py_0 + py_1\n",
    "    \n",
    "    # sumpz = sum of z-momenta\n",
    "    sumpz = pz_0 + pz_1\n",
    "    \n",
    "    # sump = magnitude of total momentum vector. Remember it's a vector!\n",
    "    sump = ((sumpx)**2 + (sumpy)**2 + (sumpz)**2)**(1/2)\n",
    "    \n",
    "    # Mll = invariant mass from M^2 = E^2 - p^2\n",
    "    Mll = ((sumE)**2 - (sump)**2)**(1/2)\n",
    "    \n",
    "    return Mll # divide by 1000 to go from MeV to GeV"
   ]
  },
  {
   "cell_type": "markdown",
   "metadata": {},
   "source": [
    "<a id='load_data'></a>"
   ]
  },
  {
   "cell_type": "markdown",
   "metadata": {},
   "source": [
    "## Can we process the data yet?!"
   ]
  },
  {
   "cell_type": "code",
   "execution_count": 5,
   "metadata": {},
   "outputs": [],
   "source": [
    "import os\n",
    "if not os.path.exists(url):\n",
    "    print(f\"File not found: {url}\")\n",
    "else:\n",
    "    # Open the file as expected\n",
    "    tree = uproot.open(url)[\"analysis\"]"
   ]
  },
  {
   "cell_type": "code",
   "execution_count": 6,
   "metadata": {},
   "outputs": [
    {
     "name": "stderr",
     "output_type": "stream",
     "text": [
      "/cvmfs/sft.cern.ch/lcg/views/LCG_105a_swan/x86_64-el9-gcc13-opt/lib/python3.9/site-packages/awkward/_connect/_numpy.py:195: RuntimeWarning: invalid value encountered in power\n",
      "  result = getattr(ufunc, method)(\n"
     ]
    },
    {
     "data": {
      "text/html": [
       "<div>\n",
       "<style scoped>\n",
       "    .dataframe tbody tr th:only-of-type {\n",
       "        vertical-align: middle;\n",
       "    }\n",
       "\n",
       "    .dataframe tbody tr th {\n",
       "        vertical-align: top;\n",
       "    }\n",
       "\n",
       "    .dataframe thead th {\n",
       "        text-align: right;\n",
       "    }\n",
       "</style>\n",
       "<table border=\"1\" class=\"dataframe\">\n",
       "  <thead>\n",
       "    <tr style=\"text-align: right;\">\n",
       "      <th></th>\n",
       "      <th></th>\n",
       "      <th>lep_pt</th>\n",
       "      <th>lep_eta</th>\n",
       "      <th>lep_phi</th>\n",
       "      <th>lep_e</th>\n",
       "      <th>mass</th>\n",
       "    </tr>\n",
       "    <tr>\n",
       "      <th>entry</th>\n",
       "      <th>subentry</th>\n",
       "      <th></th>\n",
       "      <th></th>\n",
       "      <th></th>\n",
       "      <th></th>\n",
       "      <th></th>\n",
       "    </tr>\n",
       "  </thead>\n",
       "  <tbody>\n",
       "    <tr>\n",
       "      <th rowspan=\"2\" valign=\"top\">0</th>\n",
       "      <th>0</th>\n",
       "      <td>39.500763</td>\n",
       "      <td>0.078966</td>\n",
       "      <td>-0.243200</td>\n",
       "      <td>39.624123</td>\n",
       "      <td>112.717903</td>\n",
       "    </tr>\n",
       "    <tr>\n",
       "      <th>1</th>\n",
       "      <td>28.031813</td>\n",
       "      <td>-2.263336</td>\n",
       "      <td>1.835705</td>\n",
       "      <td>136.222260</td>\n",
       "      <td>112.717903</td>\n",
       "    </tr>\n",
       "    <tr>\n",
       "      <th rowspan=\"2\" valign=\"top\">1</th>\n",
       "      <th>0</th>\n",
       "      <td>40.010536</td>\n",
       "      <td>-0.274780</td>\n",
       "      <td>1.707098</td>\n",
       "      <td>41.530674</td>\n",
       "      <td>92.776161</td>\n",
       "    </tr>\n",
       "    <tr>\n",
       "      <th>1</th>\n",
       "      <td>53.014458</td>\n",
       "      <td>-0.515419</td>\n",
       "      <td>-1.451307</td>\n",
       "      <td>60.213669</td>\n",
       "      <td>92.776161</td>\n",
       "    </tr>\n",
       "    <tr>\n",
       "      <th rowspan=\"2\" valign=\"top\">2</th>\n",
       "      <th>0</th>\n",
       "      <td>8.645004</td>\n",
       "      <td>1.293893</td>\n",
       "      <td>0.421721</td>\n",
       "      <td>16.949213</td>\n",
       "      <td>35.936306</td>\n",
       "    </tr>\n",
       "    <tr>\n",
       "      <th>1</th>\n",
       "      <td>34.805412</td>\n",
       "      <td>2.330170</td>\n",
       "      <td>-1.742511</td>\n",
       "      <td>180.587311</td>\n",
       "      <td>35.936306</td>\n",
       "    </tr>\n",
       "    <tr>\n",
       "      <th rowspan=\"2\" valign=\"top\">3</th>\n",
       "      <th>0</th>\n",
       "      <td>54.010548</td>\n",
       "      <td>1.672802</td>\n",
       "      <td>-2.374850</td>\n",
       "      <td>148.928604</td>\n",
       "      <td>13.532080</td>\n",
       "    </tr>\n",
       "    <tr>\n",
       "      <th>1</th>\n",
       "      <td>25.271931</td>\n",
       "      <td>1.982336</td>\n",
       "      <td>-2.180761</td>\n",
       "      <td>93.473709</td>\n",
       "      <td>13.532080</td>\n",
       "    </tr>\n",
       "    <tr>\n",
       "      <th rowspan=\"2\" valign=\"top\">4</th>\n",
       "      <th>0</th>\n",
       "      <td>24.499901</td>\n",
       "      <td>-1.476216</td>\n",
       "      <td>1.272683</td>\n",
       "      <td>56.409321</td>\n",
       "      <td>88.215599</td>\n",
       "    </tr>\n",
       "    <tr>\n",
       "      <th>1</th>\n",
       "      <td>96.541748</td>\n",
       "      <td>-1.091213</td>\n",
       "      <td>-0.904633</td>\n",
       "      <td>159.954880</td>\n",
       "      <td>88.215599</td>\n",
       "    </tr>\n",
       "  </tbody>\n",
       "</table>\n",
       "</div>"
      ],
      "text/plain": [
       "                   lep_pt   lep_eta   lep_phi       lep_e        mass\n",
       "entry subentry                                                       \n",
       "0     0         39.500763  0.078966 -0.243200   39.624123  112.717903\n",
       "      1         28.031813 -2.263336  1.835705  136.222260  112.717903\n",
       "1     0         40.010536 -0.274780  1.707098   41.530674   92.776161\n",
       "      1         53.014458 -0.515419 -1.451307   60.213669   92.776161\n",
       "2     0          8.645004  1.293893  0.421721   16.949213   35.936306\n",
       "      1         34.805412  2.330170 -1.742511  180.587311   35.936306\n",
       "3     0         54.010548  1.672802 -2.374850  148.928604   13.532080\n",
       "      1         25.271931  1.982336 -2.180761   93.473709   13.532080\n",
       "4     0         24.499901 -1.476216  1.272683   56.409321   88.215599\n",
       "      1         96.541748 -1.091213 -0.904633  159.954880   88.215599"
      ]
     },
     "execution_count": 6,
     "metadata": {},
     "output_type": "execute_result"
    }
   ],
   "source": [
    "variables = ['lep_pt','lep_eta','lep_phi','lep_e']\n",
    "\n",
    "# Define empty list to hold all data for this sample\n",
    "sample_data = []\n",
    "data = []\n",
    "# Perform the cuts for each data entry in the tree\n",
    "for data in tree.iterate(variables, library=\"ak\"): # the data will be in the form of an awkward array\n",
    "    \n",
    "    data['mass'] = calc_mass(data['lep_pt'], data['lep_eta'], data['lep_phi'], data['lep_e'])\n",
    "\n",
    "    # Append data to the whole sample data list\n",
    "    #sample_data.append(data)\n",
    "\n",
    "#for data in tree.iterate(variables, library=\"ak\"):\n",
    "#print(ak.to_list(sample_data)[:5])\n",
    "\n",
    "data_pd = ak.to_pandas(data)\n",
    "# Reset MultiIndex to remove 'subentry'\n",
    "#data_pd = data_pd.reset_index(level='subentry', drop=True)\n",
    "data_pd.head(10)"
   ]
  },
  {
   "cell_type": "code",
   "execution_count": 7,
   "metadata": {},
   "outputs": [
    {
     "name": "stdout",
     "output_type": "stream",
     "text": [
      "<class 'awkward.highlevel.Array'>\n",
      "[{lep_pt: [39.5, 28], lep_eta: [0.079, -2.26, ... lep_e: [57.6, 73.7], mass: 89.4}]\n"
     ]
    }
   ],
   "source": [
    "print(type(data))\n",
    "print(data)"
   ]
  },
  {
   "cell_type": "code",
   "execution_count": 8,
   "metadata": {},
   "outputs": [
    {
     "name": "stdout",
     "output_type": "stream",
     "text": [
      "[{'lep_pt': [39.500762939453125, 28.03181266784668], 'lep_eta': [0.07896601408720016, -2.263336181640625], 'lep_phi': [-0.24319986999034882, 1.835705280303955], 'lep_e': [39.624122619628906, 136.22225952148438], 'mass': 112.71790313720703}, {'lep_pt': [40.010536193847656, 53.01445770263672], 'lep_eta': [-0.2747797966003418, -0.5154194831848145], 'lep_phi': [1.7070978879928589, -1.451306939125061], 'lep_e': [41.53067398071289, 60.21366882324219], 'mass': 92.77616119384766}, {'lep_pt': [8.645004272460938, 34.80541229248047], 'lep_eta': [1.2938930988311768, 2.330169677734375], 'lep_phi': [0.42172104120254517, -1.7425113916397095], 'lep_e': [16.9492130279541, 180.58731079101562], 'mass': 35.93630599975586}, {'lep_pt': [54.01054763793945, 25.271930694580078], 'lep_eta': [1.672802448272705, 1.9823359251022339], 'lep_phi': [-2.374850273132324, -2.1807608604431152], 'lep_e': [148.92860412597656, 93.47370910644531], 'mass': 13.532079696655273}, {'lep_pt': [24.499900817871094, 96.541748046875], 'lep_eta': [-1.4762156009674072, -1.0912128686904907], 'lep_phi': [1.2726831436157227, -0.9046333432197571], 'lep_e': [56.40932083129883, 159.9548797607422], 'mass': 88.2155990600586}]\n"
     ]
    }
   ],
   "source": [
    "print(ak.to_list(data)[:5])"
   ]
  },
  {
   "cell_type": "markdown",
   "metadata": {},
   "source": [
    "[Back to contents](#contents)"
   ]
  },
  {
   "cell_type": "markdown",
   "metadata": {},
   "source": [
    "<a id='plot_data'></a>"
   ]
  },
  {
   "cell_type": "markdown",
   "metadata": {},
   "source": [
    "## Function to plot Data"
   ]
  },
  {
   "cell_type": "code",
   "execution_count": 9,
   "metadata": {
    "scrolled": true
   },
   "outputs": [
    {
     "data": {
      "image/png": "[encoded data removed]",
      "text/plain": [
       "<Figure size 432x288 with 1 Axes>"
      ]
     },
     "metadata": {
      "needs_background": "light"
     },
     "output_type": "display_data"
    }
   ],
   "source": [
    "bin_edges = np.arange(start=35, # The interval includes this value\n",
    "                      stop=110, # The interval doesn't include this value\n",
    "                      step=5 ) # Spacing between values\n",
    "bin_centres = (bin_edges[:-1] + bin_edges[1:]) / 2 # central values of each bin\n",
    "\n",
    "# histogram the data\n",
    "#data_x,_ = np.histogram(data_all['mll'], bins=bin_edges ) \n",
    "data_x,_ = np.histogram(data['mass'], bins=bin_edges ) \n",
    "\n",
    "# statistical error on the data\n",
    "data_x_errors = np.sqrt(data_x)\n",
    "\n",
    "# plot the data points\n",
    "plt.errorbar(x=bin_centres, \n",
    "                   y=data_x, \n",
    "                   yerr=data_x_errors,\n",
    "                   fmt='ko' ) # 'k' means black and 'o' is for circles\n",
    "\n",
    "# x-axis label\n",
    "plt.xlabel('Mll [GeV]')\n",
    "\n",
    "# y-axis label\n",
    "plt.ylabel('Events')\n",
    "\n",
    "# make the y-axis log scale\n",
    "plt.yscale('log')"
   ]
  },
  {
   "attachments": {
    "Z%20boson.png": {
     "image/png": "[encoded data removed]"
    }
   },
   "cell_type": "markdown",
   "metadata": {},
   "source": [
    "Compare this with \"Total Cross Section\" as a function of \"Center of Mass Energy\".\n",
    "\n",
    "![Z%20boson.png](attachment:Z%20boson.png)\n",
    "\n",
    "<a id='tasks'></a>\n",
    "\n",
    "## Your tasks\n",
    "\n",
    "1. Write the invariant mass formula, $M^2=E^2-p^2$, with *c* included.\n",
    "2. Calculate the invariant mass for the first event, in GeV. \n",
    "    * lep_px[0] = 32387 MeV, \n",
    "    * lep_px[1] = -18772 MeV, \n",
    "    * lep_py[0] = 7047 MeV, \n",
    "    * lep_py[1] = -9563 MeV, \n",
    "    * lep_pz[0] = 144152 MeV, \n",
    "    * lep_pz[1] = -2942 MeV, \n",
    "    * lep_E[0] = 147913 MeV, \n",
    "    * lep_E[1] = 21272 MeV \n",
    "    * (can you check these values yourself?)\n",
    "    * (can you check your calculated value?)\n",
    "3. If lep[0] in the first event is an electron, what's its Lorentz factor, $\\gamma$? Use an electron mass of 0.5 MeV in the formula $E = \\gamma m$\n",
    "4. Calculate lep_p[0], the magnitude of the total momentum of lep[0].\n",
    "5. Using lep_p[0], calculate the speed of this electron. Use the formula $p = \\gamma mv/c$\n",
    "6. Write the possible Z decays into charged leptons. Give an argument as to whether or not each decay happens at the same rate.\n",
    "7. Besides charged leptons, what are the other possible decays of the Z?"
   ]
  },
  {
   "cell_type": "markdown",
   "metadata": {},
   "source": [
    "[Back to contents](#contents)"
   ]
  },
  {
   "cell_type": "markdown",
   "metadata": {},
   "source": [
    "Finding the Z boson in ATLAS data is a case of calculating invariant mass and plotting a range up to about 100 GeV. The Z boson then shows up in your graph!\n",
    "\n",
    "Hopefully you've enjoyed finding the Z boson yourself!"
   ]
  },
  {
   "cell_type": "markdown",
   "metadata": {},
   "source": [
    "<a id='going_further'></a>"
   ]
  },
  {
   "cell_type": "markdown",
   "metadata": {},
   "source": [
    "## Going further\n",
    "\n",
    "If you want to go further, there are a number of things you could try: \n",
    "* **Estimate the mass of the Z boson** from your graph.\n",
    "* **Estimate the width of the Z boson** from your graph.\n",
    "* **Increase the fraction** of events processed. In the line `entrystop=numevents*` in '[Can we process the data yet?!](#load_data)', increase the number from 0.001. \n",
    "* **Use larger data files**. `data_A` used so far corresponds to an integrated luminosity of 0.5 fb$^{-1}$. Other files include: `data_B` 1.9 fb$^{-1}$, `data_C` 2.9 fb$^{-1}$, `data_D` 4.7 fb$^{-1}$. Try one of these larger files.\n",
    "* **Use all data files together**. `data_A` + `B` + `C` + `D` corresponds to about 1/14th of the data collected by ATLAS at a centre-of-mass energy of 13 TeV - the highest energy particle collisions achieved on earth.\n",
    "* **Write the name of the type of peak shown in your graph**.\n",
    "* **Make a fit to your graph**.\n",
    "* **Extract the Z boson mass from your fit**.\n",
    "* **Extract the Z boson width from your fit**.\n",
    "\n",
    "With each change, keep an eye on your graph."
   ]
  },
  {
   "cell_type": "markdown",
   "metadata": {},
   "source": [
    "[Back to contents](#contents)"
   ]
  }
 ],
 "metadata": {
  "@webio": {
   "lastCommId": null,
   "lastKernelId": null
  },
  "kernelspec": {
   "display_name": "Python 3",
   "language": "python",
   "name": "python3"
  },
  "language_info": {
   "codemirror_mode": {
    "name": "ipython",
    "version": 3
   },
   "file_extension": ".py",
   "mimetype": "text/x-python",
   "name": "python",
   "nbconvert_exporter": "python",
   "pygments_lexer": "ipython3",
   "version": "3.9.12"
  }
 },
 "nbformat": 4,
 "nbformat_minor": 4
}
